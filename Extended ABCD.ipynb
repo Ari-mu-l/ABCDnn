{
 "cells": [
  {
   "cell_type": "code",
   "execution_count": 1,
   "id": "48dcbeaf",
   "metadata": {},
   "outputs": [
    {
     "name": "stdout",
     "output_type": "stream",
     "text": [
      "Welcome to JupyROOT 6.26/04\n"
     ]
    }
   ],
   "source": [
    "import ROOT\n",
    "import numpy as np\n",
    "import matplotlib.pyplot as plt\n",
    "import matplotlib.colors as colors\n",
    "from matplotlib import cm\n",
    "from matplotlib import patches\n",
    "import mplhep as hep\n",
    "import os\n",
    "from tqdm import tqdm\n",
    "import ipywidgets as widget\n",
    "import xsec\n",
    "import itertools"
   ]
  },
  {
   "cell_type": "code",
   "execution_count": 2,
   "id": "33fd3a39",
   "metadata": {},
   "outputs": [
    {
     "data": {
      "text/plain": [
       "True"
      ]
     },
     "execution_count": 2,
     "metadata": {},
     "output_type": "execute_result"
    }
   ],
   "source": [
    "ROOT.gInterpreter.Declare(\"\"\"\n",
    "float compute_weight( float norm, float triggerXSF, float triggerSF, float pileupWeight, float pileupJetIDWeight, float lepIdSF, float isoSF, float L1NonPrefiringProb_CommonCalc, float MCWeight_MultiLepCalc, float tthfWeight, float btagDeepJetWeight, float btagDeepJet2DWeight_HTnj ){\n",
    "    return norm * triggerXSF * triggerSF * pileupWeight * pileupJetIDWeight * lepIdSF * isoSF * L1NonPrefiringProb_CommonCalc * ( MCWeight_MultiLepCalc / abs( MCWeight_MultiLepCalc ) ) * tthfWeight * btagDeepJetWeight * btagDeepJet2DWeight_HTnj;\n",
    "}\n",
    "\"\"\")"
   ]
  },
  {
   "cell_type": "code",
   "execution_count": 3,
   "id": "4f820be9",
   "metadata": {},
   "outputs": [
    {
     "data": {
      "text/plain": [
       "True"
      ]
     },
     "execution_count": 3,
     "metadata": {},
     "output_type": "execute_result"
    }
   ],
   "source": [
    "ROOT.gInterpreter.Declare(\"\"\"\n",
    "float compute_weight_ttbar( float norm, float triggerXSF, float triggerSF, float pileupWeight, float pileupJetIDWeight, float topPtWeight13TeV, float lepIdSF, float isoSF, float L1NonPrefiringProb_CommonCalc, float MCWeight_MultiLepCalc, float tthfWeight, float btagDeepJetWeight, float btagDeepJet2DWeight_HTnj ){\n",
    "    return norm * triggerXSF * triggerSF * pileupWeight * pileupJetIDWeight * topPtWeight13TeV * lepIdSF * isoSF * L1NonPrefiringProb_CommonCalc * ( MCWeight_MultiLepCalc / abs( MCWeight_MultiLepCalc ) ) * tthfWeight * btagDeepJetWeight * btagDeepJet2DWeight_HTnj;\n",
    "}\n",
    "\"\"\")"
   ]
  },
  {
   "cell_type": "code",
   "execution_count": 4,
   "id": "6455d56a",
   "metadata": {},
   "outputs": [],
   "source": [
    "def extended_ABCD( A, B, C, X, Y ):\n",
    "    D_yield = B * X * C**2 / ( A**2 * Y )\n",
    "    D_err   = D_yield * np.sqrt( 1/B + 1/X + 1/Y + 4/C + 4/A )\n",
    "    return D_yield, D_err\n",
    "\n",
    "def ABCD( A, B, C ):\n",
    "    D_yield = B * C / A\n",
    "    D_err = D_yield * np.sqrt( 1/B + 1/C + 1/D_yield )\n",
    "    return D_yield, D_err"
   ]
  },
  {
   "cell_type": "code",
   "execution_count": 9,
   "id": "a7f51c44",
   "metadata": {},
   "outputs": [],
   "source": [
    "rPath = \"root://brux30.hep.brown.edu:1094//store/user/dali/\"\n",
    "rDir = rPath + \"FWLJMET106XUL_singleLep2018UL_RunIISummer20_3t_step3/nominal/\"\n",
    "nTree = \"ljmet\"\n",
    "fDATA = [\n",
    "    #\"SingleElectron_hadd.root\",\n",
    "    \"EGamma_hadd.root\",\n",
    "    \"SingleMuon_hadd.root\"\n",
    "]\n",
    "fSIG = [\n",
    "    \"TTTJ_TuneCP5_13TeV-madgraph-pythia8_hadd.root\",\n",
    "    \"TTTW_TuneCP5_13TeV-madgraph-pythia8_hadd.root\"\n",
    "]\n",
    "fBKG = {\n",
    "    \"TTBAR\": [\n",
    "        \"TTTo2L2Nu_TuneCP5_13TeV-powheg-pythia8_tt1b_hadd.root\",\n",
    "        \"TTTo2L2Nu_TuneCP5_13TeV-powheg-pythia8_tt2b_hadd.root\",\n",
    "        \"TTTo2L2Nu_TuneCP5_13TeV-powheg-pythia8_ttbb_hadd.root\",\n",
    "        \"TTTo2L2Nu_TuneCP5_13TeV-powheg-pythia8_ttcc_hadd.root\",\n",
    "        \"TTTo2L2Nu_TuneCP5_13TeV-powheg-pythia8_ttjj_hadd.root\",\n",
    "        \"TTToHadronic_TuneCP5_13TeV-powheg-pythia8_tt1b_hadd.root\",\n",
    "        \"TTToHadronic_TuneCP5_13TeV-powheg-pythia8_tt2b_hadd.root\",\n",
    "        \"TTToHadronic_TuneCP5_13TeV-powheg-pythia8_ttbb_hadd.root\",\n",
    "        \"TTToHadronic_TuneCP5_13TeV-powheg-pythia8_ttcc_hadd.root\",\n",
    "        \"TTToHadronic_TuneCP5_13TeV-powheg-pythia8_ttjj_hadd.root\",\n",
    "        \"TTToSemiLepton_HT500Njet9_TuneCP5_13TeV-powheg-pythia8_tt1b_hadd.root\",\n",
    "        \"TTToSemiLepton_HT500Njet9_TuneCP5_13TeV-powheg-pythia8_tt2b_hadd.root\",\n",
    "        \"TTToSemiLepton_HT500Njet9_TuneCP5_13TeV-powheg-pythia8_ttbb_hadd.root\",\n",
    "        \"TTToSemiLepton_HT500Njet9_TuneCP5_13TeV-powheg-pythia8_ttcc_hadd.root\",\n",
    "        \"TTToSemiLepton_HT500Njet9_TuneCP5_13TeV-powheg-pythia8_ttjj_hadd.root\",\n",
    "        \"TTToSemiLeptonic_TuneCP5_13TeV-powheg-pythia8_HT0Njet0_tt1b_hadd.root\",\n",
    "        \"TTToSemiLeptonic_TuneCP5_13TeV-powheg-pythia8_HT0Njet0_tt2b_hadd.root\",\n",
    "        \"TTToSemiLeptonic_TuneCP5_13TeV-powheg-pythia8_HT0Njet0_ttbb_hadd.root\",\n",
    "        \"TTToSemiLeptonic_TuneCP5_13TeV-powheg-pythia8_HT0Njet0_ttcc_hadd.root\",\n",
    "        \"TTToSemiLeptonic_TuneCP5_13TeV-powheg-pythia8_HT0Njet0_ttjj_1_hadd.root\",\n",
    "        \"TTToSemiLeptonic_TuneCP5_13TeV-powheg-pythia8_HT0Njet0_ttjj_2_hadd.root\",\n",
    "        \"TTToSemiLeptonic_TuneCP5_13TeV-powheg-pythia8_HT0Njet0_ttjj_3_hadd.root\",\n",
    "        \"TTToSemiLeptonic_TuneCP5_13TeV-powheg-pythia8_HT0Njet0_ttjj_4_hadd.root\",\n",
    "        \"TTToSemiLeptonic_TuneCP5_13TeV-powheg-pythia8_HT0Njet0_ttjj_5_hadd.root\",\n",
    "        \"TTToSemiLeptonic_TuneCP5_13TeV-powheg-pythia8_HT0Njet0_ttjj_6_hadd.root\",\n",
    "        \"TTToSemiLeptonic_TuneCP5_13TeV-powheg-pythia8_HT0Njet0_ttjj_7_hadd.root\",\n",
    "        \"TTToSemiLeptonic_TuneCP5_13TeV-powheg-pythia8_HT0Njet0_ttjj_8_hadd.root\",\n",
    "        \"TTToSemiLeptonic_TuneCP5_13TeV-powheg-pythia8_HT0Njet0_ttjj_9_hadd.root\",\n",
    "        \"TTToSemiLeptonic_TuneCP5_13TeV-powheg-pythia8_HT0Njet0_ttjj_10_hadd.root\",\n",
    "        \"TTToSemiLeptonic_TuneCP5_13TeV-powheg-pythia8_HT500Njet9_tt1b_hadd.root\",\n",
    "        \"TTToSemiLeptonic_TuneCP5_13TeV-powheg-pythia8_HT500Njet9_tt2b_hadd.root\",\n",
    "        \"TTToSemiLeptonic_TuneCP5_13TeV-powheg-pythia8_HT500Njet9_ttbb_hadd.root\",\n",
    "        \"TTToSemiLeptonic_TuneCP5_13TeV-powheg-pythia8_HT500Njet9_ttcc_hadd.root\",\n",
    "        \"TTToSemiLeptonic_TuneCP5_13TeV-powheg-pythia8_HT500Njet9_ttjj_hadd.root\",\n",
    "    ],\n",
    "    \"TOP\": [\n",
    "        \"ST_s-channel_4f_leptonDecays_TuneCP5_13TeV-amcatnlo-pythia8_hadd.root\",\n",
    "        \"ST_t-channel_top_4f_InclusiveDecays_TuneCP5_13TeV-powheg-madspin-pythia8_hadd.root\",\n",
    "        \"ST_t-channel_antitop_4f_InclusiveDecays_TuneCP5_13TeV-powheg-madspin-pythia8_hadd.root\",\n",
    "        \"ST_tW_top_5f_inclusiveDecays_TuneCP5_13TeV-powheg-pythia8_hadd.root\",\n",
    "        \"ST_tW_antitop_5f_inclusiveDecays_TuneCP5_13TeV-powheg-pythia8_hadd.root\",\n",
    "        #\"TTTT_TuneCP5_13TeV-amcatnlo-pythia8_hadd.root\",\n",
    "        \"TTTT_TuneCP5_13TeV-amcatnlo-pythia8_1_hadd.root\",\n",
    "        \"TTTT_TuneCP5_13TeV-amcatnlo-pythia8_2_hadd.root\",\n",
    "        \"TTTT_TuneCP5_13TeV-amcatnlo-pythia8_3_hadd.root\",\n",
    "        \"TTHH_TuneCP5_13TeV-madgraph-pythia8_hadd.root\",\n",
    "        \"TTWH_TuneCP5_13TeV-madgraph-pythia8_hadd.root\",\n",
    "        \"TTWW_TuneCP5_13TeV-madgraph-pythia8_hadd.root\",\n",
    "        \"TTWZ_TuneCP5_13TeV-madgraph-pythia8_hadd.root\",\n",
    "        \"TTZH_TuneCP5_13TeV-madgraph-pythia8_hadd.root\",\n",
    "        \"TTZZ_TuneCP5_13TeV-madgraph-pythia8_hadd.root\",\n",
    "        \"TTZToLLNuNu_M-10_TuneCP5_13TeV-amcatnlo-pythia8_hadd.root\",\n",
    "        \"TTWJetsToQQ_TuneCP5_13TeV-amcatnloFXFX-madspin-pythia8_hadd.root\", \n",
    "        \"TTWJetsToLNu_TuneCP5_13TeV-amcatnloFXFX-madspin-pythia8_hadd.root\",\n",
    "        \"TTZToLL_M-1to10_TuneCP5_13TeV-amcatnlo-pythia8_hadd.root\",\n",
    "    ],\n",
    "    \"TTH\": [\n",
    "        \"ttHTobb_M125_TuneCP5_13TeV-powheg-pythia8_hadd.root\",\n",
    "        \"ttHToNonbb_M125_TuneCP5_13TeV-powheg-pythia8_hadd.root\",\n",
    "    ],\n",
    "    \"EWK\": [\n",
    "        \"WW_TuneCP5_13TeV-pythia8_hadd.root\",\n",
    "        \"WZ_TuneCP5_13TeV-pythia8_hadd.root\",\n",
    "        \"ZZ_TuneCP5_13TeV-pythia8_hadd.root\",\n",
    "        \"DYJetsToLL_M-50_HT-200to400_TuneCP5_PSweights_13TeV-madgraphMLM-pythia8_hadd.root\",\n",
    "        \"DYJetsToLL_M-50_HT-400to600_TuneCP5_PSweights_13TeV-madgraphMLM-pythia8_hadd.root\",\n",
    "        \"DYJetsToLL_M-50_HT-600to800_TuneCP5_PSweights_13TeV-madgraphMLM-pythia8_hadd.root\",\n",
    "        \"DYJetsToLL_M-50_HT-800to1200_TuneCP5_PSweights_13TeV-madgraphMLM-pythia8_hadd.root\",\n",
    "        \"DYJetsToLL_M-50_HT-1200to2500_TuneCP5_PSweights_13TeV-madgraphMLM-pythia8_hadd.root\",\n",
    "        \"DYJetsToLL_M-50_HT-2500toInf_TuneCP5_PSweights_13TeV-madgraphMLM-pythia8_hadd.root\",\n",
    "        \"WJetsToLNu_HT-200To400_TuneCP5_13TeV-madgraphMLM-pythia8_hadd.root\",\n",
    "        \"WJetsToLNu_HT-400To600_TuneCP5_13TeV-madgraphMLM-pythia8_hadd.root\",\n",
    "        \"WJetsToLNu_HT-600To800_TuneCP5_13TeV-madgraphMLM-pythia8_hadd.root\",\n",
    "        \"WJetsToLNu_HT-800To1200_TuneCP5_13TeV-madgraphMLM-pythia8_hadd.root\",\n",
    "        \"WJetsToLNu_HT-1200To2500_TuneCP5_13TeV-madgraphMLM-pythia8_hadd.root\",\n",
    "        \"WJetsToLNu_HT-2500ToInf_TuneCP5_13TeV-madgraphMLM-pythia8_hadd.root\",\n",
    "    ],\n",
    "    \"QCD\": [\n",
    "        \"QCD_HT200to300_TuneCP5_PSWeights_13TeV-madgraph-pythia8_hadd.root\",\n",
    "        \"QCD_HT300to500_TuneCP5_PSWeights_13TeV-madgraph-pythia8_hadd.root\",\n",
    "        \"QCD_HT500to700_TuneCP5_PSWeights_13TeV-madgraph-pythia8_hadd.root\",\n",
    "        \"QCD_HT700to1000_TuneCP5_PSWeights_13TeV-madgraph-pythia8_hadd.root\",\n",
    "        \"QCD_HT1000to1500_TuneCP5_PSWeights_13TeV-madgraph-pythia8_hadd.root\",\n",
    "        \"QCD_HT1500to2000_TuneCP5_PSWeights_13TeV-madgraph-pythia8_hadd.root\",\n",
    "        \"QCD_HT2000toInf_TuneCP5_PSWeights_13TeV-madgraph-pythia8_hadd.root\",\n",
    "    ],   \n",
    "}"
   ]
  },
  {
   "cell_type": "code",
   "execution_count": 10,
   "id": "35521974",
   "metadata": {},
   "outputs": [
    {
     "name": "stdout",
     "output_type": "stream",
     "text": [
      "Loading data:\n"
     ]
    },
    {
     "name": "stderr",
     "output_type": "stream",
     "text": [
      "100%|██████████| 2/2 [00:07<00:00,  3.63s/it]\n"
     ]
    },
    {
     "name": "stdout",
     "output_type": "stream",
     "text": [
      "Loading signal:\n"
     ]
    },
    {
     "name": "stderr",
     "output_type": "stream",
     "text": [
      "100%|██████████| 2/2 [00:03<00:00,  1.99s/it]\n"
     ]
    },
    {
     "name": "stdout",
     "output_type": "stream",
     "text": [
      "Loading background group: TTBAR\n"
     ]
    },
    {
     "name": "stderr",
     "output_type": "stream",
     "text": [
      "100%|██████████| 34/34 [04:14<00:00,  7.49s/it]\n"
     ]
    },
    {
     "name": "stdout",
     "output_type": "stream",
     "text": [
      "Loading background group: TOP\n"
     ]
    },
    {
     "name": "stderr",
     "output_type": "stream",
     "text": [
      "100%|██████████| 18/18 [01:27<00:00,  4.85s/it]\n"
     ]
    },
    {
     "name": "stdout",
     "output_type": "stream",
     "text": [
      "Loading background group: TTH\n"
     ]
    },
    {
     "name": "stderr",
     "output_type": "stream",
     "text": [
      "100%|██████████| 2/2 [00:11<00:00,  5.80s/it]\n"
     ]
    },
    {
     "name": "stdout",
     "output_type": "stream",
     "text": [
      "Loading background group: EWK\n"
     ]
    },
    {
     "name": "stderr",
     "output_type": "stream",
     "text": [
      "100%|██████████| 15/15 [01:10<00:00,  4.70s/it]\n"
     ]
    },
    {
     "name": "stdout",
     "output_type": "stream",
     "text": [
      "Loading background group: QCD\n"
     ]
    },
    {
     "name": "stderr",
     "output_type": "stream",
     "text": [
      "100%|██████████| 7/7 [00:09<00:00,  1.41s/it]\n"
     ]
    }
   ],
   "source": [
    "fBase = \"DataPastTriggerX == 1 && MCPastTriggerX == 1 && minDR_lepJet > 0.4 && AK4HT > 350\"\n",
    "variables = [\n",
    "    \"NJets_JetSubCalc\",\n",
    "    \"NJetsCSV_JetSubCalc\",\n",
    "    \"NresolvedTops1pFake\",\n",
    "    \"DNN_1to40_3t\"\n",
    "]\n",
    "rDF = { \"DATA\": {}, \"SIG\": {}, \"BKG\": {} }\n",
    "print( \"Loading data:\" )\n",
    "for f in tqdm( fDATA ):\n",
    "    rDF[\"DATA\"][f] = ROOT.RDataFrame( nTree, rDir + f ).Filter( fBase ).AsNumpy( columns = variables )\n",
    "print( \"Loading signal:\" )\n",
    "for f in tqdm( fSIG ):\n",
    "    rDF_ = ROOT.RDataFrame( nTree, rDir + f ).Filter( fBase ).Define( \"weight\", \"compute_weight( {}, triggerXSF, triggerSF, pileupWeight, pileupJetIDWeight, lepIdSF, isoSF, L1NonPrefiringProb_CommonCalc, MCWeight_MultiLepCalc, tthfWeight, btagDeepJetWeight, btagDeepJet2DWeight_HTnj )\".format( xsec.norm[f] ) )\n",
    "    rDF[\"SIG\"][f] = rDF_.AsNumpy( columns = variables + [ \"weight\" ] )\n",
    "for g in fBKG:\n",
    "    rDF[\"BKG\"][g] = {}\n",
    "    print( \"Loading background group: \" + g )\n",
    "    for f in tqdm( fBKG[g] ):\n",
    "        if g == \"TTBAR\":\n",
    "            rDF_ = ROOT.RDataFrame( nTree, rDir + f ).Filter( fBase ).Define( \"weight\", \"compute_weight_ttbar( {}, triggerXSF, triggerSF, pileupWeight, pileupJetIDWeight, topPtWeight13TeV, lepIdSF, isoSF, L1NonPrefiringProb_CommonCalc, MCWeight_MultiLepCalc, tthfWeight, btagDeepJetWeight, btagDeepJet2DWeight_HTnj )\".format( xsec.norm[f] ) )\n",
    "        else:\n",
    "            rDF_ = ROOT.RDataFrame( nTree, rDir + f ).Filter( fBase ).Define( \"weight\", \"compute_weight( {}, triggerXSF, triggerSF, pileupWeight, pileupJetIDWeight, lepIdSF, isoSF, L1NonPrefiringProb_CommonCalc, MCWeight_MultiLepCalc, tthfWeight, btagDeepJetWeight, btagDeepJet2DWeight_HTnj )\".format( xsec.norm[f] ) )\n",
    "        rDF[\"BKG\"][g][f] = rDF_.AsNumpy( columns = variables + [ \"weight\" ] )"
   ]
  },
  {
   "cell_type": "markdown",
   "id": "3324ea38",
   "metadata": {},
   "source": [
    "## Get the yields in each region"
   ]
  },
  {
   "cell_type": "code",
   "execution_count": 11,
   "id": "638f3e53",
   "metadata": {},
   "outputs": [],
   "source": [
    "def rel( limits, val, df ):\n",
    "    if val >= limits[-1]: return df >= val\n",
    "    else: return df == val\n",
    "    return df == val"
   ]
  },
  {
   "cell_type": "code",
   "execution_count": 12,
   "id": "0117aa80",
   "metadata": {},
   "outputs": [],
   "source": [
    "nJ = np.linspace( 4, 5, 2 )\n",
    "nB = np.linspace( 0, 2, 3 )\n",
    "\n",
    "yields = { \"DATA\": {}, \"SIG\": {}, \"BKG\": {} }\n",
    "mc_count = { \"BKG\": {} }\n",
    "\n",
    "for nJ_ in nJ:\n",
    "    yields[ \"DATA\" ][nJ_] = {}\n",
    "    yields[ \"SIG\" ][nJ_] = {}\n",
    "    yields[ \"BKG\" ][nJ_] = {}\n",
    "    mc_count[ \"BKG\" ][nJ_] = {}\n",
    "    for nB_ in nB:\n",
    "        yields[ \"DATA\" ][nJ_][nB_] = {}\n",
    "        yields[ \"SIG\" ][nJ_][nB_] = {}\n",
    "        yields[ \"BKG\" ][nJ_][nB_] = {}\n",
    "        mc_count[ \"BKG\" ][nJ_][nB_] = 0\n",
    "        for f in rDF[ \"DATA\" ]:\n",
    "            mask = ( rel(  nJ, nJ_, rDF[ \"DATA\" ][f][\"NJets_JetSubCalc\"]  ) ) & ( rel( nB, nB_, rDF[ \"DATA\" ][f][\"NJetsCSV_JetSubCalc\"] ) )\n",
    "            yields[ \"DATA\" ][nJ_][nB_][f] = np.sum( mask )\n",
    "        for f in rDF[ \"SIG\" ]:\n",
    "            mask = ( rel(  nJ, nJ_, rDF[ \"SIG\" ][f][\"NJets_JetSubCalc\"]  ) ) & ( rel( nB, nB_, rDF[ \"SIG\" ][f][\"NJetsCSV_JetSubCalc\"] ) )\n",
    "            yields[ \"SIG\" ][nJ_][nB_][f] = np.sum( rDF[ \"SIG\" ][f][ \"weight\" ][mask] )\n",
    "        for g in rDF[ \"BKG\" ]:\n",
    "            yields[ \"BKG\" ][nJ_][nB_][g] = {}\n",
    "            for f in rDF[\"BKG\"][g]:\n",
    "                mask = ( rel(  nJ, nJ_, rDF[ \"BKG\" ][g][f][\"NJets_JetSubCalc\"]  ) ) & ( rel( nB, nB_, rDF[ \"BKG\" ][g][f][\"NJetsCSV_JetSubCalc\"] ) )\n",
    "                yields[ \"BKG\" ][nJ_][nB_][g][f] = np.sum( rDF[ \"BKG\" ][g][f][ \"weight\" ][ mask ] )\n",
    "                if g == \"TTBAR\":\n",
    "                    mc_count[ \"BKG\" ][nJ_][nB_] += int( np.sum(mask) )"
   ]
  },
  {
   "cell_type": "markdown",
   "id": "4602aa12",
   "metadata": {},
   "source": [
    "Compute the group yields"
   ]
  },
  {
   "cell_type": "code",
   "execution_count": 13,
   "id": "4443b1bf",
   "metadata": {},
   "outputs": [
    {
     "name": "stdout",
     "output_type": "stream",
     "text": [
      "Yields for (NJ,NB) = (4.0,0.0)\n",
      "  - Data: 379716\n",
      "  - Signal: 0.22\n",
      "  - Background (TTBAR): 64990.98\n",
      "  - Background (TOP): 6025.12\n",
      "  - Background (TTH): 81.80\n",
      "  - Background (EWK): 237727.24\n",
      "  - Background (QCD): 97648.80\n",
      "  - Total Background: 406473.94\n",
      "Yields for (NJ,NB) = (4.0,1.0)\n",
      "  - Data: 307929\n",
      "  - Signal: 0.85\n",
      "  - Background (TTBAR): 232048.34\n",
      "  - Background (TOP): 20110.78\n",
      "  - Background (TTH): 298.34\n",
      "  - Background (EWK): 45964.73\n",
      "  - Background (QCD): 38907.84\n",
      "  - Total Background: 337330.02\n",
      "Yields for (NJ,NB) = (4.0,2.0)\n",
      "  - Data: 239622\n",
      "  - Signal: 1.35\n",
      "  - Background (TTBAR): 222612.68\n",
      "  - Background (TOP): 15050.24\n",
      "  - Background (TTH): 545.76\n",
      "  - Background (EWK): 7287.40\n",
      "  - Background (QCD): 8287.17\n",
      "  - Total Background: 253783.25\n",
      "Yields for (NJ,NB) = (5.0,0.0)\n",
      "  - Data: 154165\n",
      "  - Signal: 0.39\n",
      "  - Background (TTBAR): 41523.27\n",
      "  - Background (TOP): 2785.18\n",
      "  - Background (TTH): 98.55\n",
      "  - Background (EWK): 76521.98\n",
      "  - Background (QCD): 38991.36\n",
      "  - Total Background: 159920.35\n",
      "Yields for (NJ,NB) = (5.0,1.0)\n",
      "  - Data: 197575\n",
      "  - Signal: 2.09\n",
      "  - Background (TTBAR): 171893.56\n",
      "  - Background (TOP): 10612.13\n",
      "  - Background (TTH): 431.02\n",
      "  - Background (EWK): 19810.34\n",
      "  - Background (QCD): 21613.53\n",
      "  - Total Background: 224360.57\n",
      "Yields for (NJ,NB) = (5.0,2.0)\n",
      "  - Data: 219917\n",
      "  - Signal: 7.16\n",
      "  - Background (TTBAR): 217201.58\n",
      "  - Background (TOP): 11427.55\n",
      "  - Background (TTH): 1151.74\n",
      "  - Background (EWK): 4525.96\n",
      "  - Background (QCD): 5933.99\n",
      "  - Total Background: 240240.83\n"
     ]
    }
   ],
   "source": [
    "for nJ_ in nJ:\n",
    "    for nB_ in nB:\n",
    "        print( \"Yields for (NJ,NB) = ({},{})\".format(nJ_,nB_) )\n",
    "        yields[ \"DATA\" ][nJ_][nB_][ \"TOTAL\" ] = 0\n",
    "        for f in rDF[ \"DATA\" ]:\n",
    "            yields[ \"DATA\" ][nJ_][nB_][ \"TOTAL\" ] += yields[ \"DATA\" ][nJ_][nB_][f]\n",
    "        print( \"  - Data: {}\".format( yields[ \"DATA\" ][nJ_][nB_][ \"TOTAL\" ] ) )\n",
    "        yields[ \"SIG\" ][nJ_][nB_][ \"TOTAL\" ] = 0\n",
    "        for f in rDF[ \"SIG\" ]:\n",
    "            yields[ \"SIG\" ][nJ_][nB_][ \"TOTAL\" ] += yields[ \"SIG\" ][nJ_][nB_][f]\n",
    "        print( \"  - Signal: {:.2f}\".format( yields[ \"SIG\" ][nJ_][nB_][ \"TOTAL\" ] ) )\n",
    "        yields[ \"BKG\" ][nJ_][nB_][ \"TOTAL\" ] = 0\n",
    "        for g in rDF[ \"BKG\" ]:\n",
    "            yields[ \"BKG\" ][nJ_][nB_][g][ \"TOTAL\" ] = 0\n",
    "            for f in rDF[ \"BKG\" ][g]:\n",
    "                yields[ \"BKG\" ][nJ_][nB_][g][ \"TOTAL\" ] += yields[ \"BKG\" ][nJ_][nB_][g][f]\n",
    "                yields[ \"BKG\" ][nJ_][nB_][ \"TOTAL\" ] += yields[ \"BKG\" ][nJ_][nB_][g][f]\n",
    "            print( \"  - Background ({}): {:.2f}\".format( g, yields[ \"BKG\" ][nJ_][nB_][g][ \"TOTAL\" ] ) )\n",
    "        print( \"  - Total Background: {:.2f}\".format( yields[ \"BKG\" ][nJ_][nB_][ \"TOTAL\" ] ) )"
   ]
  },
  {
   "cell_type": "markdown",
   "id": "2543e6ab",
   "metadata": {},
   "source": [
    "Get the relative composition of the background"
   ]
  },
  {
   "cell_type": "code",
   "execution_count": 14,
   "id": "5eeb0aeb",
   "metadata": {},
   "outputs": [
    {
     "name": "stdout",
     "output_type": "stream",
     "text": [
      "Background breakdown for (NJ,NB) = (4.0,0.0)\n",
      "  - TTBAR : 15.99 %\n",
      "  - TOP   : 1.48 %\n",
      "  - TTH   : 0.02 %\n",
      "  - EWK   : 58.49 %\n",
      "  - QCD   : 24.02 %\n",
      "Background breakdown for (NJ,NB) = (4.0,1.0)\n",
      "  - TTBAR : 68.79 %\n",
      "  - TOP   : 5.96 %\n",
      "  - TTH   : 0.09 %\n",
      "  - EWK   : 13.63 %\n",
      "  - QCD   : 11.53 %\n",
      "Background breakdown for (NJ,NB) = (4.0,2.0)\n",
      "  - TTBAR : 87.72 %\n",
      "  - TOP   : 5.93 %\n",
      "  - TTH   : 0.22 %\n",
      "  - EWK   : 2.87 %\n",
      "  - QCD   : 3.27 %\n",
      "Background breakdown for (NJ,NB) = (5.0,0.0)\n",
      "  - TTBAR : 25.96 %\n",
      "  - TOP   : 1.74 %\n",
      "  - TTH   : 0.06 %\n",
      "  - EWK   : 47.85 %\n",
      "  - QCD   : 24.38 %\n",
      "Background breakdown for (NJ,NB) = (5.0,1.0)\n",
      "  - TTBAR : 76.61 %\n",
      "  - TOP   : 4.73 %\n",
      "  - TTH   : 0.19 %\n",
      "  - EWK   : 8.83 %\n",
      "  - QCD   : 9.63 %\n",
      "Background breakdown for (NJ,NB) = (5.0,2.0)\n",
      "  - TTBAR : 90.41 %\n",
      "  - TOP   : 4.76 %\n",
      "  - TTH   : 0.48 %\n",
      "  - EWK   : 1.88 %\n",
      "  - QCD   : 2.47 %\n"
     ]
    }
   ],
   "source": [
    "breakdown = {}\n",
    "for nJ_ in nJ:\n",
    "    breakdown[nJ_] = {}\n",
    "    for nB_ in nB:\n",
    "        breakdown[nJ_][nB_] = {}\n",
    "        print( \"Background breakdown for (NJ,NB) = ({},{})\".format(nJ_,nB_) )\n",
    "        for g in rDF[ \"BKG\" ]:\n",
    "            breakdown[nJ_][nB_][g] = yields[ \"BKG\" ][nJ_][nB_][g][\"TOTAL\"] / yields[ \"BKG\" ][nJ_][nB_][\"TOTAL\"]\n",
    "            print( \"  - {:<6}: {:.2f} %\".format( g, breakdown[nJ_][nB_][g] * 100. ) )\n",
    "\n"
   ]
  },
  {
   "cell_type": "code",
   "execution_count": 15,
   "id": "dbad495b",
   "metadata": {},
   "outputs": [
    {
     "name": "stdout",
     "output_type": "stream",
     "text": [
      "| (NJ,NB) | TTBAR  | TOP    | TTH    | EWK    | QCD    | Total #    |\n",
      "| (4 ,0 ) | 15.99  | 1.48   | 0.02   | 58.49  | 24.02  | 406473.94  |\n",
      "| (4 ,1 ) | 68.79  | 5.96   | 0.09   | 13.63  | 11.53  | 337330.02  |\n",
      "| (4 ,2 ) | 87.72  | 5.93   | 0.22   | 2.87   | 3.27   | 253783.25  |\n",
      "| (5 ,0 ) | 25.96  | 1.74   | 0.06   | 47.85  | 24.38  | 159920.35  |\n",
      "| (5 ,1 ) | 76.61  | 4.73   | 0.19   | 8.83   | 9.63   | 224360.57  |\n",
      "| (5 ,2 ) | 90.41  | 4.76   | 0.48   | 1.88   | 2.47   | 240240.83  |\n"
     ]
    }
   ],
   "source": [
    "print( \"| (NJ,NB) | {:<6} | {:<6} | {:<6} | {:<6} | {:<6} | {:<10} |\".format( \"TTBAR\", \"TOP\", \"TTH\", \"EWK\", \"QCD\", \"Total #\" ) )\n",
    "for nJ_, nB_ in itertools.product( nJ, nB ):\n",
    "    sNJ = \"{}\".format( int(nJ_) ) if nJ_ == nJ[-1] else int(nJ_)\n",
    "    sNB = \"{}\".format( int(nB_) ) if nB_ == nB[-1] else int(nB_)\n",
    "    print( \"| ({:<2},{:<2}) | {:<6.2f} | {:<6.2f} | {:<6.2f} | {:<6.2f} | {:<6.2f} | {:<10.2f} |\".format( sNJ, sNB, 100*breakdown[nJ_][nB_][\"TTBAR\"], 100*breakdown[nJ_][nB_][\"TOP\"], 100*breakdown[nJ_][nB_][\"TTH\"], 100*breakdown[nJ_][nB_][\"EWK\"], 100*breakdown[ nJ_][nB_][\"QCD\"], yields[ \"BKG\" ][nJ_][nB_][\"TOTAL\"] ) )"
   ]
  },
  {
   "cell_type": "markdown",
   "id": "4492c4e9",
   "metadata": {},
   "source": [
    "### Signal region prediction without background subtraction\n",
    "Define yields"
   ]
  },
  {
   "cell_type": "code",
   "execution_count": 16,
   "id": "ce226b03",
   "metadata": {},
   "outputs": [],
   "source": [
    "def get_region( nJ_, nJ, nB_, nB ):\n",
    "    if len(nJ) == 3:\n",
    "        if nJ_ == nJ[0] and nB_ == nB[0]: return \"X\"\n",
    "        if nJ_ == nJ[0] and nB_ >= nB[1]: return \"Y\"\n",
    "        if nJ_ == nJ[1] and nB_ == nB[0]: return \"A\"\n",
    "        if nJ_ == nJ[1] and nB_ >= nB[1]: return \"C\"\n",
    "        if nJ_ >= nJ[2] and nB_ == nB[0]: return \"B\"\n",
    "        return \"D\"\n",
    "    else:\n",
    "        if nJ_ == nJ[0] and nB_ == nB[0]: return \"X\"\n",
    "        if nJ_ == nJ[0] and nB_ == nB[1]: return \"A\"\n",
    "        if nJ_ == nJ[0] and nB_ >= nB[2]: return \"B\"\n",
    "        if nJ_ >= nJ[1] and nB_ == nB[0]: return \"Y\"\n",
    "        if nJ_ >= nJ[1] and nB_ == nB[1]: return \"C\"\n",
    "        return \"D\""
   ]
  },
  {
   "cell_type": "code",
   "execution_count": 17,
   "id": "256b4862",
   "metadata": {},
   "outputs": [],
   "source": [
    "yields_region = {\n",
    "    \"MC\": { region: 0 for region in [ \"A\", \"B\", \"C\", \"D\", \"X\", \"Y\" ] },\n",
    "    \"Data\": { region: 0 for region in [ \"A\", \"B\", \"C\", \"D\", \"X\", \"Y\" ] }\n",
    "}\n",
    "\n",
    "for nJ_ in nJ:\n",
    "    for nB_ in nB:\n",
    "        yields_region[ \"MC\" ][ get_region( nJ_, nJ, nB_, nB ) ] = int(yields[ \"BKG\" ][nJ_][nB_][ \"TOTAL\" ])\n",
    "        yields_region[ \"Data\" ][ get_region( nJ_, nJ, nB_, nB ) ] = int(yields[ \"DATA\" ][nJ_][nB_][ \"TOTAL\" ])"
   ]
  },
  {
   "cell_type": "markdown",
   "id": "d4820800",
   "metadata": {},
   "source": [
    "ABCD vs Extended ABCD Prediction"
   ]
  },
  {
   "cell_type": "code",
   "execution_count": 18,
   "id": "2ea0efa7",
   "metadata": {},
   "outputs": [
    {
     "name": "stdout",
     "output_type": "stream",
     "text": [
      "NJ = [4. 5.]\n",
      "NB = [0. 1. 2.]\n",
      "ABCD Prediction (MC): 168792.44 pm 410.84 (Stat) pm 638.78 (Syst)\n",
      "Extended ABCD Prediction (MC): 285346.39 pm 534.18 (Stat) pm 1856.73 (Syst)\n",
      "MC SF: 240240.00 pm 410.84 (Stat)\n",
      "ABCD Prediction (Data): 174590.87 pm 417.84 (Stat) pm 661.56 (Syst)\n",
      "Extended ABCD Prediction (Data): 242975.56 pm 492.93 (Stat) pm 1657.39 (Syst)\n",
      "Data: 219917.00\n"
     ]
    }
   ],
   "source": [
    "print( \"NJ = {}\".format(nJ ) )\n",
    "print( \"NB = {}\".format(nB) )\n",
    "\n",
    "mcPred, mcPredSyst = ABCD( yields_region[ \"MC\" ][ \"A\" ], yields_region[ \"MC\" ][ \"B\" ], yields_region[ \"MC\" ][ \"C\" ] )\n",
    "mcPredExt, mcPredSystExt = extended_ABCD( yields_region[ \"MC\" ][ \"A\" ], yields_region[ \"MC\" ][ \"B\" ], yields_region[ \"MC\" ][ \"C\" ], yields_region[ \"MC\" ][ \"X\" ], yields_region[ \"MC\" ][ \"Y\" ] )\n",
    "\n",
    "print( \"ABCD Prediction (MC): {:.2f} pm {:.2f} (Stat) pm {:.2f} (Syst)\".format( mcPred, np.sqrt(mcPred), mcPredSyst ) )\n",
    "print( \"Extended ABCD Prediction (MC): {:.2f} pm {:.2f} (Stat) pm {:.2f} (Syst)\".format( mcPredExt, np.sqrt(mcPredExt), mcPredSystExt ) )\n",
    "print( \"MC SF: {:.2f} pm {:.2f} (Stat)\".format( yields_region[ \"MC\" ][ \"D\" ], np.sqrt(mcPred) ) )\n",
    "\n",
    "dataPred, dataPredSyst = ABCD( yields_region[ \"Data\" ][ \"A\" ], yields_region[ \"Data\" ][ \"B\" ], yields_region[ \"MC\" ][ \"C\" ] )\n",
    "dataPredExt, dataPredSystExt = extended_ABCD( yields_region[ \"Data\" ][ \"A\" ], yields_region[ \"Data\" ][ \"B\" ], yields_region[ \"Data\" ][ \"C\" ], yields_region[ \"Data\" ][ \"X\" ], yields_region[ \"Data\" ][ \"Y\" ] )\n",
    "\n",
    "print( \"ABCD Prediction (Data): {:.2f} pm {:.2f} (Stat) pm {:.2f} (Syst)\".format( dataPred, np.sqrt(dataPred), dataPredSyst ) )\n",
    "print( \"Extended ABCD Prediction (Data): {:.2f} pm {:.2f} (Stat) pm {:.2f} (Syst)\".format( dataPredExt, np.sqrt(dataPredExt), dataPredSystExt ) )\n",
    "print( \"Data: {:.2f}\".format( yields_region[ \"Data\" ][ \"D\" ] ) )"
   ]
  },
  {
   "cell_type": "markdown",
   "id": "65dc54ce",
   "metadata": {},
   "source": [
    "## Signal region prediction with background subtraction\n",
    "In each case, the minor SF background is added back directly"
   ]
  },
  {
   "cell_type": "code",
   "execution_count": 19,
   "id": "42cbb5d7",
   "metadata": {},
   "outputs": [
    {
     "name": "stdout",
     "output_type": "stream",
     "text": [
      "The minor background in Region D (NJ,NB)=(5,2) is: 17105.3\n"
     ]
    }
   ],
   "source": [
    "minor_bkg = yields[ \"BKG\" ][nJ[-1]][nB[-1]][ \"TOP\" ][\"TOTAL\"] + yields[ \"BKG\" ][nJ[-1]][nB[-1]][ \"TTH\" ][\"TOTAL\"] + yields[ \"BKG\" ][nJ[-1]][nB[-1]][ \"EWK\" ][\"TOTAL\"] \n",
    "print( \"The minor background in Region D (NJ,NB)=({},{}) is: {:.1f}\".format( int(nJ[-1]), int(nB[-1]), minor_bkg ) )"
   ]
  },
  {
   "cell_type": "code",
   "execution_count": 20,
   "id": "f3e3ab99",
   "metadata": {},
   "outputs": [],
   "source": [
    "def subtraction_relative( data, bkg_tot, bkg_major ):\n",
    "    return ( bkg_major / bkg_tot ) * data\n",
    "    \n",
    "def subtraction_absolute( data, bkg_minor ):\n",
    "    return float( data - bkg_minor )\n",
    "\n",
    "def p_diff( x, y ):\n",
    "    return abs( 100. * ( x - y ) / x )"
   ]
  },
  {
   "cell_type": "markdown",
   "id": "574e74e4",
   "metadata": {},
   "source": [
    "### Option 1: Relative subtraction before prediction\n",
    "Remove a fraction of the data in CR beforemaking the prediction, and then add the minor SF background back to SR"
   ]
  },
  {
   "cell_type": "code",
   "execution_count": 21,
   "id": "2712ddc7",
   "metadata": {},
   "outputs": [
    {
     "name": "stdout",
     "output_type": "stream",
     "text": [
      "Option 1: Relative subtraction before prediction in NJ = [4. 5.], NB = [0. 1. 2.]\n",
      "  - ABCD Prediction w/ subtraction (Data): 150199.62 + 17105.26 = 167304.88 (23.92 %)\n",
      "    + Transfer Factor: 0.01649\n",
      "  - ABCD Prediction (Data): 174590.87 (20.61 %)\n",
      "    + Transfer Factor: 0.01917\n",
      "  - Extended ABCD Prediction w/ subtraction (Data): 202557.33 + 17105.26 = 219662.59 (0.12 %)\n",
      "    + Systematic: 0.0080 (1616.64/202557.33)\n",
      "    + Statistical: 0.0022 (450.06/202557.33)\n",
      "    + Closure: 0.0012 (219662.59/219917)\n",
      "    + Transfer Factor: 0.02224\n",
      "  - Extended ABCD Prediction (Data): 242975.56 (10.49 %)\n",
      "    + Transfer Factor: 0.02668\n",
      "  - MC SF Prediction: 240240.83 (9.24 %)\n",
      "  - Data: 219917\n"
     ]
    }
   ],
   "source": [
    "print( \"Option 1: Relative subtraction before prediction in NJ = {}, NB = {}\".format( nJ, nB ) )\n",
    "yields_subRel_region = {\n",
    "    \"Data\": { region: 0 for region in [ \"A\", \"B\", \"C\", \"D\", \"X\", \"Y\" ] }\n",
    "}\n",
    "\n",
    "for nJ_ in nJ:\n",
    "    for nB_ in nB:\n",
    "        yields_subRel_region[ \"Data\" ][ get_region( nJ_, nJ, nB_, nB ) ] = subtraction_relative( \n",
    "            int(yields[ \"DATA\" ][nJ_][nB_][ \"TOTAL\" ]), \n",
    "            int(yields[ \"BKG\" ][nJ_][nB_][ \"TOTAL\" ]) + int(yields[ \"SIG\" ][nJ_][nB_][ \"TOTAL\" ]), \n",
    "            int(yields[ \"BKG\" ][nJ_][nB_][ \"TTBAR\" ][\"TOTAL\"]) + int(yields[ \"BKG\" ][nJ_][nB_][ \"QCD\" ][\"TOTAL\"])\n",
    "        )\n",
    "\n",
    "mcPred, mcPredSyst = ABCD( yields_subRel_region[ \"Data\" ][ \"A\" ], yields_subRel_region[ \"Data\" ][ \"B\" ], yields_subRel_region[ \"Data\" ][ \"C\" ] )\n",
    "mcPredExt, mcPredSystExt = extended_ABCD( yields_subRel_region[ \"Data\" ][ \"A\" ], yields_subRel_region[ \"Data\" ][ \"B\" ], yields_subRel_region[ \"Data\" ][ \"C\" ],  yields_subRel_region[ \"Data\" ][ \"X\" ], yields_subRel_region[ \"Data\" ][ \"Y\" ] )\n",
    "        \n",
    "print( \"  - ABCD Prediction w/ subtraction (Data): {:.2f} + {:.2f} = {:.2f} ({:.2f} %)\".format( mcPred, minor_bkg, mcPred + minor_bkg, p_diff( yields_region[ \"Data\" ][ \"D\" ], mcPred + minor_bkg ) ) )\n",
    "print( \"    + Transfer Factor: {:.5f}\".format( mcPred / mc_count[ \"BKG\" ][nJ[-1]][nB[-1]] ) )\n",
    "print( \"  - ABCD Prediction (Data): {:.2f} ({:.2f} %)\".format( dataPred, p_diff( yields_region[ \"Data\" ][ \"D\" ], dataPred ) ) )\n",
    "print( \"    + Transfer Factor: {:.5f}\".format( dataPred / mc_count[ \"BKG\" ][nJ[-1]][nB[-1]] ) )\n",
    "print( \"  - Extended ABCD Prediction w/ subtraction (Data): {:.2f} + {:.2f} = {:.2f} ({:.2f} %)\".format( mcPredExt, minor_bkg, mcPredExt + minor_bkg, p_diff( yields_region[ \"Data\" ][ \"D\" ], mcPredExt + minor_bkg ) ) )\n",
    "print( \"    + Systematic: {:.4f} ({:.2f}/{:.2f})\".format( mcPredSystExt / mcPredExt, mcPredSystExt, mcPredExt ) )\n",
    "print( \"    + Statistical: {:.4f} ({:.2f}/{:.2f})\".format( np.sqrt(mcPredExt)/mcPredExt, np.sqrt(mcPredExt), mcPredExt ) )\n",
    "print( \"    + Closure: {:.4f} ({:.2f}/{})\".format( abs( mcPredExt + minor_bkg - yields_region[\"Data\"][\"D\"] ) /yields_region[\"Data\"][\"D\"], mcPredExt + minor_bkg, yields_region[\"Data\"][\"D\"] ) )\n",
    "print( \"    + Transfer Factor: {:.5f}\".format( mcPredExt / mc_count[ \"BKG\" ][nJ[-1]][nB[-1]] ) )\n",
    "print( \"  - Extended ABCD Prediction (Data): {:.2f} ({:.2f} %)\".format( dataPredExt, p_diff( yields_region[ \"Data\" ][ \"D\" ], dataPredExt ) ) )\n",
    "print( \"    + Transfer Factor: {:.5f}\".format( dataPredExt / mc_count[ \"BKG\" ][nJ[-1]][nB[-1]] ) )\n",
    "print( \"  - MC SF Prediction: {:.2f} ({:.2f} %)\".format( yields[ \"BKG\" ][nJ[-1]][nB[-1]][ \"TOTAL\" ], p_diff( yields_region[ \"Data\" ][ \"D\" ], yields[ \"BKG\" ][nJ[-1]][nB[-1]][ \"TOTAL\" ] ) ) )\n",
    "print( \"  - Data: {}\".format( yields_region[ \"Data\" ][ \"D\" ] ) )"
   ]
  },
  {
   "cell_type": "markdown",
   "id": "1e4a9e73",
   "metadata": {},
   "source": [
    "### Option 2: Absolute subtraction before prediction \n",
    "Remove a fixed amount of the data in CR when making the prediction, and then add the minor SF background back to SR"
   ]
  },
  {
   "cell_type": "code",
   "execution_count": 22,
   "id": "ee52db04",
   "metadata": {},
   "outputs": [
    {
     "name": "stdout",
     "output_type": "stream",
     "text": [
      "Option 2: Absolute subtraction before prediction in NJ = [4. 5.], NB = [0. 1. 2.]\n",
      "  - ABCD Prediction w/ subtraction (Data): 149593.12 + 17105.26 = 166698.38 (24.20 %)\n",
      "    + Transfer Factor: 0.01643\n",
      "  - ABCD Prediction (Data): 174590.87 (20.61 %)\n",
      "    + Transfer Factor: 0.01917\n",
      "  - Extended ABCD Prediction w/ subtraction (Data): 187664.99 + 17105.26 = 204770.25 (6.89 %)\n",
      "    + Systematic: 0.0081 (1523.45/187664.99)\n",
      "    + Statistical: 0.0023 (433.20/187664.99)\n",
      "    + Closure: 0.0689 (204770.25/219917)\n",
      "    + Transfer Factor: 0.02061\n",
      "  - Extended ABCD Prediction (Data): 242975.56 (10.49 %)\n",
      "    + Transfer Factor: 0.02668\n",
      "  - MC SF Prediction: 240240.83 (9.24 %)\n",
      "  - Data: 219917\n"
     ]
    }
   ],
   "source": [
    "print( \"Option 2: Absolute subtraction before prediction in NJ = {}, NB = {}\".format( nJ, nB ) )\n",
    "yields_subAbs_region = {\n",
    "    \"Data\": { region: 0 for region in [ \"A\", \"B\", \"C\", \"D\", \"X\", \"Y\" ] }\n",
    "}\n",
    "\n",
    "for nJ_ in nJ:\n",
    "    for nB_ in nB:\n",
    "        yields_subAbs_region[ \"Data\" ][ get_region( nJ_, nJ, nB_, nB ) ] = subtraction_absolute( \n",
    "            int(yields[ \"DATA\" ][nJ_][nB_][ \"TOTAL\" ]), \n",
    "            yields[ \"BKG\" ][nJ_][nB_][ \"TOP\" ][\"TOTAL\"] + yields[ \"BKG\" ][nJ_][nB_][ \"EWK\" ][\"TOTAL\"] + yields[ \"BKG\" ][nJ_][nB_][ \"TTH\" ][\"TOTAL\"] # + yields[ \"BKG\" ][nJ_][nB_][ \"QCD\" ][\"TOTAL\"]\n",
    "        )\n",
    "\n",
    "mcPred, mcPredSyst = ABCD( yields_subAbs_region[ \"Data\" ][ \"A\" ], yields_subAbs_region[ \"Data\" ][ \"B\" ], yields_subAbs_region[ \"Data\" ][ \"C\" ] )\n",
    "mcPredExt, mcPredSystExt = extended_ABCD( yields_subAbs_region[ \"Data\" ][ \"A\" ], yields_subAbs_region[ \"Data\" ][ \"B\" ], yields_subAbs_region[ \"Data\" ][ \"C\" ],  yields_subAbs_region[ \"Data\" ][ \"X\" ], yields_subAbs_region[ \"Data\" ][ \"Y\" ] )\n",
    "        \n",
    "print( \"  - ABCD Prediction w/ subtraction (Data): {:.2f} + {:.2f} = {:.2f} ({:.2f} %)\".format( mcPred, minor_bkg, mcPred + minor_bkg, p_diff( yields_region[ \"Data\" ][ \"D\" ], mcPred + minor_bkg ) ) )\n",
    "print( \"    + Transfer Factor: {:.5f}\".format( mcPred / mc_count[ \"BKG\" ][nJ[-1]][nB[-1]] ) )\n",
    "print( \"  - ABCD Prediction (Data): {:.2f} ({:.2f} %)\".format( dataPred, p_diff( yields_region[ \"Data\" ][ \"D\" ], dataPred ) ) )\n",
    "print( \"    + Transfer Factor: {:.5f}\".format( dataPred / mc_count[ \"BKG\" ][nJ[-1]][nB[-1]] ) )\n",
    "print( \"  - Extended ABCD Prediction w/ subtraction (Data): {:.2f} + {:.2f} = {:.2f} ({:.2f} %)\".format( mcPredExt, minor_bkg, mcPredExt + minor_bkg, p_diff( yields_region[ \"Data\" ][ \"D\" ], mcPredExt + minor_bkg ) ) )\n",
    "print( \"    + Systematic: {:.4f} ({:.2f}/{:.2f})\".format( mcPredSystExt / mcPredExt, mcPredSystExt, mcPredExt ) )\n",
    "print( \"    + Statistical: {:.4f} ({:.2f}/{:.2f})\".format( np.sqrt(mcPredExt)/mcPredExt, np.sqrt(mcPredExt), mcPredExt ) )\n",
    "print( \"    + Closure: {:.4f} ({:.2f}/{})\".format( abs( mcPredExt + minor_bkg - yields_region[\"Data\"][\"D\"] ) /yields_region[\"Data\"][\"D\"], mcPredExt + minor_bkg, yields_region[\"Data\"][\"D\"] ) )\n",
    "print( \"    + Transfer Factor: {:.5f}\".format( mcPredExt / mc_count[ \"BKG\" ][nJ[-1]][nB[-1]] ) )\n",
    "print( \"  - Extended ABCD Prediction (Data): {:.2f} ({:.2f} %)\".format( dataPredExt, p_diff( yields_region[ \"Data\" ][ \"D\" ], dataPredExt ) ) )\n",
    "print( \"    + Transfer Factor: {:.5f}\".format( dataPredExt / mc_count[ \"BKG\" ][nJ[-1]][nB[-1]] ) )\n",
    "print( \"  - MC SF Prediction: {:.2f} ({:.2f} %)\".format( yields[ \"BKG\" ][nJ[-1]][nB[-1]][ \"TOTAL\" ], p_diff( yields_region[ \"Data\" ][ \"D\" ], yields[ \"BKG\" ][nJ[-1]][nB[-1]][ \"TOTAL\" ] ) ) )\n",
    "print( \"  - Data: {}\".format( yields_region[ \"Data\" ][ \"D\" ] ) )"
   ]
  },
  {
   "cell_type": "markdown",
   "id": "949824ff",
   "metadata": {},
   "source": [
    "### Option 3: Relative subtraction after prediction\n",
    "Remove a fraction of the data in SR after the prediction, and then add the minor SF background back to the SR"
   ]
  },
  {
   "cell_type": "code",
   "execution_count": 23,
   "id": "5b618f30",
   "metadata": {},
   "outputs": [
    {
     "name": "stdout",
     "output_type": "stream",
     "text": [
      "Option 3: Absolute subtraction after prediction in NJ = [4. 5.], NB = [0. 1. 2.]\n",
      "  - ABCD Prediction w/ subtraction (Data): 165533.58 + 17105.26 = 182638.84 (16.95 %)\n",
      "    + Transfer Factor: 0.01688\n",
      "  - ABCD Prediction (Data): 174590.87 (20.61 %)\n",
      "    + Transfer Factor: 0.01917\n",
      "  - Extended ABCD Prediction w/ subtraction (Data): 261601.73 + 17105.26 = 278706.99 (26.73 %)\n",
      "    + Transfer Factor: 0.02668\n",
      "  - Extended ABCD Prediction (Data): 242975.56 (10.49 %)\n",
      "    + Transfer Factor: 0.02668\n",
      "  - MC SF Prediction: 240240.83 (9.24 %)\n",
      "  - Data: 219917\n"
     ]
    }
   ],
   "source": [
    "print( \"Option 3: Absolute subtraction after prediction in NJ = {}, NB = {}\".format( nJ, nB ) )\n",
    "yields_subRel_region = {\n",
    "    \"Data\": { region: 0 for region in [ \"A\", \"B\", \"C\", \"D\", \"X\", \"Y\" ] }\n",
    "}\n",
    "\n",
    "for nJ_ in nJ:\n",
    "    for nB_ in nB:\n",
    "        yields_subRel_region[ \"Data\" ][ get_region( nJ_, nJ, nB_, nB ) ] = int(yields[ \"DATA\" ][nJ_][nB_][ \"TOTAL\" ])\n",
    "\n",
    "mcPred, mcPredSyst = ABCD( yields_subRel_region[ \"Data\" ][ \"A\" ], yields_subRel_region[ \"Data\" ][ \"B\" ], yields_subRel_region[ \"Data\" ][ \"C\" ] )\n",
    "mcPredExt, mcPredSystExt = extended_ABCD( yields_subRel_region[ \"Data\" ][ \"A\" ], yields_subRel_region[ \"Data\" ][ \"B\" ], yields_subRel_region[ \"Data\" ][ \"C\" ],  yields_subRel_region[ \"Data\" ][ \"X\" ], yields_subRel_region[ \"Data\" ][ \"Y\" ] )\n",
    "\n",
    "mcPredSub = subtraction_relative( mcPred, yields[ \"BKG\" ][nJ[-1]][nB[-1]][ \"TTBAR\" ][\"TOTAL\"] + yields[ \"BKG\" ][nJ[-1]][nB[-1]][ \"QCD\" ][\"TOTAL\"], yields[ \"BKG\" ][nJ[-1]][nB[-1]][\"TOTAL\"] )\n",
    "mcPredExtSub = subtraction_relative( mcPredExt, yields[ \"BKG\" ][nJ[-1]][nB[-1]][ \"TTBAR\" ][\"TOTAL\"] + yields[ \"BKG\" ][nJ[-1]][nB[-1]][ \"QCD\" ][\"TOTAL\"], yields[ \"BKG\" ][nJ[-1]][nB[-1]][\"TOTAL\"] )\n",
    "\n",
    "print( \"  - ABCD Prediction w/ subtraction (Data): {:.2f} + {:.2f} = {:.2f} ({:.2f} %)\".format( mcPredSub, minor_bkg, mcPredSub + minor_bkg, p_diff( yields_region[ \"Data\" ][ \"D\" ], mcPredSub + minor_bkg ) ) )\n",
    "print( \"    + Transfer Factor: {:.5f}\".format( mcPred / mc_count[ \"BKG\" ][nJ[-1]][nB[-1]] ) )\n",
    "print( \"  - ABCD Prediction (Data): {:.2f} ({:.2f} %)\".format( dataPred, p_diff( yields_region[ \"Data\" ][ \"D\" ], dataPred ) ) )\n",
    "print( \"    + Transfer Factor: {:.5f}\".format( dataPred / mc_count[ \"BKG\" ][nJ[-1]][nB[-1]] ) )\n",
    "print( \"  - Extended ABCD Prediction w/ subtraction (Data): {:.2f} + {:.2f} = {:.2f} ({:.2f} %)\".format( mcPredExtSub, minor_bkg, mcPredExtSub + minor_bkg, p_diff( yields_region[ \"Data\" ][ \"D\" ], mcPredExtSub + minor_bkg ) ) )\n",
    "print( \"    + Transfer Factor: {:.5f}\".format( mcPredExt / mc_count[ \"BKG\" ][nJ[-1]][nB[-1]] ) )\n",
    "print( \"  - Extended ABCD Prediction (Data): {:.2f} ({:.2f} %)\".format( dataPredExt, p_diff( yields_region[ \"Data\" ][ \"D\" ], dataPredExt ) ) )\n",
    "print( \"    + Transfer Factor: {:.5f}\".format( dataPredExt / mc_count[ \"BKG\" ][nJ[-1]][nB[-1]] ) )\n",
    "print( \"  - MC SF Prediction: {:.2f} ({:.2f} %)\".format( yields[ \"BKG\" ][nJ[-1]][nB[-1]][ \"TOTAL\" ], p_diff( yields_region[ \"Data\" ][ \"D\" ], yields[ \"BKG\" ][nJ[-1]][nB[-1]][ \"TOTAL\" ] ) ) )\n",
    "print( \"  - Data: {}\".format( yields_region[ \"Data\" ][ \"D\" ] ) )"
   ]
  },
  {
   "cell_type": "markdown",
   "id": "d1bf3f3d",
   "metadata": {},
   "source": [
    "## Extended ABCD Transfer Factor Scale Factor for Applying Cuts"
   ]
  },
  {
   "cell_type": "markdown",
   "id": "f0ebe999",
   "metadata": {},
   "source": [
    "Calculate the Extended ABCD transfer factor scale factor after applying a cut"
   ]
  },
  {
   "cell_type": "code",
   "execution_count": null,
   "id": "019ed822",
   "metadata": {},
   "outputs": [],
   "source": [
    "nJ = np.linspace(4,5,2)\n",
    "nB = np.linspace(0,2,3)\n",
    "yields = {}\n",
    "yields_cut = {}\n",
    "dnn_cut = 0.50\n",
    "fRegion = fBase\n",
    "\n",
    "for f in tqdm( fDATA + fBKG ):\n",
    "    yields[f] = {}\n",
    "    yields_cut[f] = {}\n",
    "    for nj in nJ:\n",
    "        yields[f][nj] = {}\n",
    "        yields_cut[f][nj] = {}\n",
    "        if nj == nJ[-1]:\n",
    "            mask_nj = ( rDF[f][\"NJets_JetSubCalc\"] >= nj )\n",
    "        else:\n",
    "            mask_nj = ( rDF[f][\"NJets_JetSubCalc\"] == nj )\n",
    "        for nb in nB:\n",
    "            if nb == nB[-1]:\n",
    "                mask_nb = mask_nj & ( rDF[f][\"NJetsCSV_JetSubCalc\"] >= nb )\n",
    "            else:\n",
    "                mask_nb = mask_nj & ( rDF[f][\"NJetsCSV_JetSubCalc\"] == nb )\n",
    "            if f in fBKG:\n",
    "                mask_cut = mask_nb & ( rDF[f][\"DNN_1to40_3t_nJ5pnB2p\"] > dnn_cut )\n",
    "            else:\n",
    "                mask_cut = mask_nb & ( rDF[f][\"DNN_1to40_3t\"] > dnn_cut )\n",
    "            yields[f][nj][nb] = np.sum( mask_nb )\n",
    "            yields_cut[f][nj][nb] = np.sum( mask_cut )\n",
    "            \n",
    "\n",
    "yields[\"DATA\"] = {}\n",
    "yields_cut[\"DATA\"] = {}\n",
    "yields[\"BKG\"] = {}\n",
    "yields_cut[\"BKG\"] = {}\n",
    "for nj in nJ:\n",
    "    yields[\"DATA\"][nj] = {}\n",
    "    yields_cut[\"DATA\"][nj] = {}\n",
    "    yields[\"BKG\"][nj] = {}\n",
    "    yields_cut[\"BKG\"][nj] = {}\n",
    "    for nb in nB:\n",
    "        yields[\"DATA\"][nj][nb] = 0\n",
    "        yields_cut[\"DATA\"][nj][nb] = 0\n",
    "        yields[\"BKG\"][nj][nb] = 0\n",
    "        yields_cut[\"BKG\"][nj][nb] = 0\n",
    "        for f in tqdm( fDATA ):\n",
    "            yields[\"DATA\"][nj][nb] += yields[f][nj][nb]\n",
    "            yields_cut[\"DATA\"][nj][nb] += yields_cut[f][nj][nb]\n",
    "        for f in tqdm( fBKG ):\n",
    "            yields[\"BKG\"][nj][nb] += yields[f][nj][nb]\n",
    "            yields_cut[\"BKG\"][nj][nb] += yields_cut[f][nj][nb]"
   ]
  },
  {
   "cell_type": "code",
   "execution_count": null,
   "id": "66175471",
   "metadata": {},
   "outputs": [],
   "source": [
    "X = [nJ[0],nB[0]]\n",
    "Y = [nJ[1],nB[0]]\n",
    "C = [nJ[1],nB[1]]\n",
    "A = [nJ[0],nB[1]]\n",
    "B = [nJ[0],nB[2]]\n",
    "D = [nJ[1],nB[2]]\n",
    "pD, pD_err = extended_ABCD(\n",
    "    X = int(yields[\"DATA\"][X[0]][X[1]]),\n",
    "    Y = int(yields[\"DATA\"][Y[0]][Y[1]]),\n",
    "    C = int(yields[\"DATA\"][C[0]][C[1]]),\n",
    "    A = int(yields[\"DATA\"][A[0]][A[1]]),\n",
    "    B = int(yields[\"DATA\"][B[0]][B[1]])\n",
    ")\n",
    "pD_cut, pD_cut_err = extended_ABCD(\n",
    "    X = int(yields_cut[\"DATA\"][X[0]][X[1]]),\n",
    "    Y = int(yields_cut[\"DATA\"][Y[0]][Y[1]]),\n",
    "    C = int(yields_cut[\"DATA\"][C[0]][C[1]]),\n",
    "    A = int(yields_cut[\"DATA\"][A[0]][A[1]]),\n",
    "    B = int(yields_cut[\"DATA\"][B[0]][B[1]])\n",
    ")"
   ]
  },
  {
   "cell_type": "code",
   "execution_count": null,
   "id": "a51eb220",
   "metadata": {},
   "outputs": [],
   "source": [
    "efficiency = {\n",
    "    \"DATA\": {},\n",
    "    \"BKG\": {}\n",
    "}\n",
    "for nj in nJ:\n",
    "    efficiency[\"DATA\"][nj] = {}\n",
    "    efficiency[\"BKG\"][nj]  = {}\n",
    "    for nb in nB:\n",
    "        efficiency[\"DATA\"][nj][nb] = yields_cut[\"DATA\"][nj][nb] / yields[\"DATA\"][nj][nb]\n",
    "        efficiency[\"BKG\"][nj][nb]  = yields_cut[\"BKG\"][nj][nb] / yields[\"BKG\"][nj][nb]"
   ]
  },
  {
   "cell_type": "code",
   "execution_count": null,
   "id": "faa2dd8e",
   "metadata": {},
   "outputs": [],
   "source": [
    "print( \"Extended ABCD predictions with base selection:\")\n",
    "print( \"  Predicted Yield: {:.2f}\".format( pD ) )\n",
    "print( \"  Observered Yield: {:.2f}\".format( yields[\"DATA\"][D[0]][D[1]] ) )\n",
    "print( \"  Data / Extended ABCD = {:.2f}\".format( yields[\"DATA\"][D[0]][D[1]] / pD ) )\n",
    "print( \"  Percent Difference: {:.2f}%\".format( 100. * ( pD - yields[\"DATA\"][D[0]][D[1]] ) / yields[\"DATA\"][D[0]][D[1]] ) )\n",
    "print( \"With ABCDnn DNN > {}:\".format( dnn_cut ) )\n",
    "print( \"  Predicted Yield with cut: {:.2f}\".format( pD_cut ) )\n",
    "print( \"  Observered Yield with cut: {:.2f}\".format( yields_cut[\"DATA\"][D[0]][D[1]] ) )\n",
    "print( \"  Data / Extended ABCD = {:.2f}\".format( yields_cut[\"DATA\"][D[0]][D[1]] / pD_cut ) )\n",
    "print( \"  Percent Difference with cut: {:.2f}%\".format( 100. * ( pD - yields_cut[\"DATA\"][D[0]][D[1]] ) / yields_cut[\"DATA\"][D[0]][D[1]] ) )\n",
    "print( \"Region | Data                          | MC                            |\")\n",
    "for nj in nJ:\n",
    "    for nb in nB:\n",
    "        if [nj,nb] == X: region = \"X\"\n",
    "        elif [nj,nb] == Y: region = \"Y\"\n",
    "        elif [nj,nb] == A: region = \"A\"\n",
    "        elif [nj,nb] == B: region = \"B\"\n",
    "        elif [nj,nb] == C: region = \"C\"\n",
    "        elif [nj,nb] == D: region = \"D\"\n",
    "        print( \"{}      | {:<8.0f} / {:<8.0f} = {:<4.3f}   | {:<8.0f} / {:<8.0f} = {:<4.3f}   |\".format(\n",
    "            region,\n",
    "            yields_cut[\"DATA\"][nj][nb], yields[\"DATA\"][nj][nb], efficiency[\"DATA\"][nj][nb],\n",
    "            yields_cut[\"BKG\"][nj][nb], yields[\"BKG\"][nj][nb], efficiency[\"BKG\"][nj][nb],\n",
    "        ) )\n",
    "print( \"Transfer Factor: {:.0f} / {:.0f} = {:.5f}\".format(\n",
    "    pD, yields[\"BKG\"][D[0]][D[1]], pD / yields[\"BKG\"][D[0]][D[1]]\n",
    ") )\n",
    "print( \"Transfer Factor w/ cut: {:.0f} / {:.0f} = {:.5f}\".format(\n",
    "    pD_cut, yields_cut[\"BKG\"][D[0]][D[1]], pD_cut / yields_cut[\"BKG\"][D[0]][D[1]]\n",
    ") )\n",
    "print( \"Extended ABCD yield w/ cut after transfer factor: {:.0f} x {:.5f} = {:.0f}\".format(\n",
    "    yields_cut[\"BKG\"][D[0]][D[1]], pD / yields[\"BKG\"][D[0]][D[1]], yields_cut[\"BKG\"][D[0]][D[1]] * pD / yields[\"BKG\"][D[0]][D[1]]\n",
    "))\n",
    "print( \"  --> Data / Extended ABCD = {:.2f}\".format( yields_cut[\"DATA\"][D[0]][D[1]] / ( yields_cut[\"BKG\"][D[0]][D[1]] * pD / yields[\"BKG\"][D[0]][D[1]] ) ) )\n",
    "print( \"  --> Percent Difference: {:.2f}%\".format( 100. * ( ( yields_cut[\"BKG\"][D[0]][D[1]] * pD / yields[\"BKG\"][D[0]][D[1]] ) - yields_cut[\"DATA\"][D[0]][D[1]] ) / yields_cut[\"DATA\"][D[0]][D[1]] ) )"
   ]
  },
  {
   "cell_type": "code",
   "execution_count": null,
   "id": "ed3b6b62",
   "metadata": {},
   "outputs": [],
   "source": []
  },
  {
   "cell_type": "code",
   "execution_count": null,
   "id": "69b5a6bc",
   "metadata": {},
   "outputs": [],
   "source": []
  }
 ],
 "metadata": {
  "kernelspec": {
   "display_name": "Python 3",
   "language": "python",
   "name": "python3"
  },
  "language_info": {
   "codemirror_mode": {
    "name": "ipython",
    "version": 3
   },
   "file_extension": ".py",
   "mimetype": "text/x-python",
   "name": "python",
   "nbconvert_exporter": "python",
   "pygments_lexer": "ipython3",
   "version": "3.9.12"
  }
 },
 "nbformat": 4,
 "nbformat_minor": 5
}
