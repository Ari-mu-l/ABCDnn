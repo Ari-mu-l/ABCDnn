{
 "cells": [
  {
   "cell_type": "code",
   "execution_count": 1,
   "metadata": {},
   "outputs": [
    {
     "name": "stdout",
     "output_type": "stream",
     "text": [
      "Welcome to JupyROOT 6.18/04\n"
     ]
    },
    {
     "name": "stderr",
     "output_type": "stream",
     "text": [
      "/cvmfs/cms.cern.ch/slc7_amd64_gcc820/lcg/root/6.18.04-nmpfii/lib/ROOT.py:649: UserWarning: \"from ROOT import *\" is not supported under IPython\n",
      "  warnings.warn( '\"from ROOT import *\" is not supported under IPython' )\n"
     ]
    }
   ],
   "source": [
    "import ROOT\n",
    "import numpy as np\n",
    "import matplotlib.pyplot as plt\n",
    "import matplotlib.colors as colors\n",
    "from matplotlib import cm\n",
    "from matplotlib import patches\n",
    "#import mplhep as hep\n",
    "import os\n",
    "from tqdm import tqdm\n",
    "import ipywidgets as widget\n",
    "from samples import samples\n",
    "from utils import readTreeNominal\n",
    "import itertools"
   ]
  },
  {
   "cell_type": "code",
   "execution_count": 2,
   "metadata": {},
   "outputs": [
    {
     "data": {
      "text/plain": [
       "True"
      ]
     },
     "execution_count": 2,
     "metadata": {},
     "output_type": "execute_result"
    }
   ],
   "source": [
    "ROOT.gInterpreter.Declare(\"\"\"\n",
    "float compute_weight( float norm, float triggerXSF, float triggerSF, float pileupWeight, float pileupJetIDWeight, float lepIdSF, float isoSF, float L1NonPrefiringProb_CommonCalc, float MCWeight_MultiLepCalc, float tthfWeight, float btagDeepJetWeight, float btagDeepJet2DWeight_HTnj ){\n",
    "    return norm * triggerXSF * triggerSF * pileupWeight * pileupJetIDWeight * lepIdSF * isoSF * L1NonPrefiringProb_CommonCalc * ( MCWeight_MultiLepCalc / abs( MCWeight_MultiLepCalc ) ) * tthfWeight * btagDeepJetWeight * btagDeepJet2DWeight_HTnj;\n",
    "}\n",
    "\"\"\")"
   ]
  },
  {
   "cell_type": "code",
   "execution_count": 3,
   "metadata": {},
   "outputs": [
    {
     "data": {
      "text/plain": [
       "True"
      ]
     },
     "execution_count": 3,
     "metadata": {},
     "output_type": "execute_result"
    }
   ],
   "source": [
    "ROOT.gInterpreter.Declare(\"\"\"\n",
    "float compute_weight_ttbar( float norm, float triggerXSF, float triggerSF, float pileupWeight, float pileupJetIDWeight, float topPtWeight13TeV, float lepIdSF, float isoSF, float L1NonPrefiringProb_CommonCalc, float MCWeight_MultiLepCalc, float tthfWeight, float btagDeepJetWeight, float btagDeepJet2DWeight_HTnj ){\n",
    "    return norm * triggerXSF * triggerSF * pileupWeight * pileupJetIDWeight * topPtWeight13TeV * lepIdSF * isoSF * L1NonPrefiringProb_CommonCalc * ( MCWeight_MultiLepCalc / abs( MCWeight_MultiLepCalc ) ) * tthfWeight * btagDeepJetWeight * btagDeepJet2DWeight_HTnj;\n",
    "}\n",
    "\"\"\")"
   ]
  },
  {
   "cell_type": "code",
   "execution_count": 4,
   "metadata": {},
   "outputs": [],
   "source": [
    "def extended_ABCD( A, B, C, X, Y ):\n",
    "    D_yield = B * X * C**2 / ( A**2 * Y )\n",
    "    D_err   = D_yield * np.sqrt( 1/B + 1/X + 1/Y + 4/C + 4/A )\n",
    "    return D_yield, D_err\n",
    "\n",
    "def ABCD( A, B, C ):\n",
    "    D_yield = B * C / A\n",
    "    D_err = D_yield * np.sqrt( 1/B + 1/C + 1/D_yield )\n",
    "    return D_yield, D_err"
   ]
  },
  {
   "cell_type": "code",
   "execution_count": 5,
   "metadata": {},
   "outputs": [],
   "source": [
    "rPath = \"root://cmseos.fnal.gov//store/user/jmanagan/\"\n",
    "rDir = rPath + \"BtoTW_Oct2023_fullRun2\"\n",
    "nTree = \"Events_Nominal\"\n",
    "fDATA = [\n",
    "    \"SingleElecRun2016APVB\",\n",
    "    \"SingleElecRun2016APVC\",\n",
    "    \"SingleElecRun2016APVD\",\n",
    "    \"SingleElecRun2016APVE\",\n",
    "    \"SingleElecRun2016APVF\",\n",
    "    \"SingleElecRun2016F\",\n",
    "    \"SingleElecRun2016G\",\n",
    "    \"SingleElecRun2016H\",\n",
    "    \"SingleElecRun2017B\",\n",
    "    \"SingleElecRun2017C\",\n",
    "    \"SingleElecRun2017D\",\n",
    "    \"SingleElecRun2017E\",\n",
    "    \"SingleElecRun2017F\",\n",
    "    \"SingleElecRun2018A\",\n",
    "    \"SingleElecRun2018B\",\n",
    "    \"SingleElecRun2018C\",\n",
    "    \"SingleElecRun2018D\",\n",
    "    \"SingleMuonRun2016APVB\",\n",
    "    \"SingleMuonRun2016APVC\",\n",
    "    \"SingleMuonRun2016APVD\",\n",
    "    \"SingleMuonRun2016APVE\",\n",
    "    \"SingleMuonRun2016APVF\",\n",
    "    \"SingleMuonRun2016F\",\n",
    "    \"SingleMuonRun2016G\",\n",
    "    \"SingleMuonRun2016H\",\n",
    "    \"SingleMuonRun2017B\",\n",
    "    \"SingleMuonRun2017C\",\n",
    "    \"SingleMuonRun2017D\",\n",
    "    \"SingleMuonRun2017E\",\n",
    "    \"SingleMuonRun2017F\",\n",
    "    \"SingleMuonRun2018A\",\n",
    "    \"SingleMuonRun2018B\",\n",
    "    \"SingleMuonRun2018C\",\n",
    "    \"SingleMuonRun2018D\"\n",
    "]\n",
    "fSIG = [\n",
    "    \"Bprime_M1400_2016\",\n",
    "    \"Bprime_M1400_2017\",\n",
    "    \"Bprime_M1400_2018\",\n",
    "]\n",
    "fBKG = {\n",
    "    \"EWK\": [\n",
    "        \"DYMHT12002016APV\",\n",
    "        \"DYMHT12002016\",\n",
    "        \"DYMHT12002017\",\n",
    "        \"DYMHT12002018\",\n",
    "        \"DYMHT2002016APV\",\n",
    "        \"DYMHT2002016\",\n",
    "        \"DYMHT2002017\",\n",
    "        \"DYMHT2002018\",\n",
    "        \"DYMHT25002016APV\",\n",
    "        \"DYMHT25002016\",\n",
    "        \"DYMHT25002017\",\n",
    "        \"DYMHT25002018\",\n",
    "        \"DYMHT4002016APV\",\n",
    "        \"DYMHT4002016\",\n",
    "        \"DYMHT4002017\",\n",
    "        \"DYMHT4002018\",\n",
    "        \"DYMHT6002016APV\",\n",
    "        \"DYMHT6002016\",\n",
    "        \"DYMHT6002017\",\n",
    "        \"DYMHT6002018\",\n",
    "        \"DYMHT8002016APV\",\n",
    "        \"DYMHT8002016\",\n",
    "        \"DYMHT8002017\",\n",
    "        \"DYMHT8002018\",\n",
    "        \"WW2016APV\",\n",
    "        \"WW2016\",\n",
    "        \"WW2017\",\n",
    "        \"WW2018\",\n",
    "        \"WZ2016APV\",\n",
    "        \"WZ2016\",\n",
    "        \"WZ2017\",\n",
    "        \"WZ2018\",\n",
    "        \"ZZ2016APV\",\n",
    "        \"ZZ2016\",\n",
    "        \"ZZ2017\",\n",
    "        \"ZZ2018\",\n",
    "    ],\n",
    "    \"WJETS\": [\n",
    "        \"WJetsHT12002016APV\",\n",
    "        \"WJetsHT12002016\",\n",
    "        \"WJetsHT12002017\",\n",
    "        \"WJetsHT12002018\",\n",
    "        \"WJetsHT2002016APV\",\n",
    "        \"WJetsHT2002016\",\n",
    "        \"WJetsHT2002017\",\n",
    "        \"WJetsHT2002018\",\n",
    "        \"WJetsHT25002016APV\",\n",
    "        \"WJetsHT25002016\",\n",
    "        \"WJetsHT25002017\",\n",
    "        \"WJetsHT25002018\",\n",
    "        \"WJetsHT4002016APV\",\n",
    "        \"WJetsHT4002016\",\n",
    "        \"WJetsHT4002017\",\n",
    "        \"WJetsHT4002018\",\n",
    "        \"WJetsHT6002016APV\",\n",
    "        \"WJetsHT6002016\",\n",
    "        \"WJetsHT6002017\",\n",
    "        \"WJetsHT6002018\",\n",
    "        \"WJetsHT8002016APV\",\n",
    "        \"WJetsHT8002016\",\n",
    "        \"WJetsHT8002017\",\n",
    "        \"WJetsHT8002018\",\n",
    "    ],\n",
    "    \"TTBAR\": [\n",
    "        \"TTMT10002016APV\",\n",
    "        \"TTMT10002016\",\n",
    "        \"TTMT10002017\",\n",
    "        \"TTMT10002018\",\n",
    "        \"TTMT7002016APV\",\n",
    "        \"TTMT7002016\",\n",
    "        \"TTMT7002017\",\n",
    "        \"TTMT7002018\",\n",
    "        \"TTTo2L2Nu2016APV0\",\n",
    "        \"TTTo2L2Nu20160\",\n",
    "        \"TTTo2L2Nu20170\",\n",
    "        \"TTTo2L2Nu20180\",\n",
    "        \"TTTo2L2Nu2016APV700\",\n",
    "        \"TTTo2L2Nu2016700\",\n",
    "        \"TTTo2L2Nu2017700\",\n",
    "        \"TTTo2L2Nu2018700\",\n",
    "        \"TTTo2L2Nu2016APV1000\",\n",
    "        \"TTTo2L2Nu20161000\",\n",
    "        \"TTTo2L2Nu20171000\",\n",
    "        \"TTTo2L2Nu20181000\",\n",
    "        \"TTToHadronic2016APV0\",\n",
    "        \"TTToHadronic20160\",\n",
    "        \"TTToHadronic20170\",\n",
    "        \"TTToHadronic20180\",\n",
    "        \"TTToHadronic2016APV700\",\n",
    "        \"TTToHadronic2016700\",\n",
    "        \"TTToHadronic2017700\",\n",
    "        \"TTToHadronic2018700\",\n",
    "        \"TTToHadronic2016APV1000\",\n",
    "        \"TTToHadronic20161000\",\n",
    "        \"TTToHadronic20171000\",\n",
    "        \"TTToHadronic20181000\",\n",
    "        \"TTToSemiLeptonic2016APV0\",\n",
    "        \"TTToSemiLeptonic20160\",\n",
    "        \"TTToSemiLeptonic20170\",\n",
    "        \"TTToSemiLeptonic20180\",\n",
    "        \"TTToSemiLeptonic2016APV700\",\n",
    "        \"TTToSemiLeptonic2016700\",\n",
    "        \"TTToSemiLeptonic2017700\",\n",
    "        \"TTToSemiLeptonic2018700\",\n",
    "        \"TTToSemiLeptonic2016APV1000\",\n",
    "        \"TTToSemiLeptonic20161000\",\n",
    "        \"TTToSemiLeptonic20171000\",\n",
    "        \"TTToSemiLeptonic20181000\",\n",
    "    ],\n",
    "    \"ST\": [\n",
    "        \"STs2016APV\",\n",
    "        \"STs2016\",\n",
    "        \"STs2017\",\n",
    "        \"STs2018\",\n",
    "        \"STt2016APV\",\n",
    "        \"STt2016\",\n",
    "        \"STt2017\",\n",
    "        \"STt2018\",\n",
    "        \"STtb2016APV\",\n",
    "        \"STtb2016\",\n",
    "        \"STtb2017\",\n",
    "        \"STtb2018\",\n",
    "        \"STtW2016APV\",\n",
    "        \"STtW2016\",\n",
    "        \"STtW2017\",\n",
    "        \"STtW2018\",\n",
    "        \"STtWb2016APV\",\n",
    "        \"STtWb2016\",\n",
    "        \"STtWb2017\",\n",
    "        \"STtWb2018\",\n",
    "    ],\n",
    "    \"TTBARX\": [\n",
    "        \"TTHB2016APV\",\n",
    "        \"TTHB2016\",\n",
    "        \"TTHB2017\",\n",
    "        \"TTHB2018\",\n",
    "        \"TTHnonB2016APV\",\n",
    "        \"TTHnonB2016\",\n",
    "        \"TTHnonB2017\",\n",
    "        \"TTHnonB2018\",\n",
    "        \"TTWl2016APV\",\n",
    "        \"TTWl2016\",\n",
    "        \"TTWl2017\",\n",
    "        \"TTWl2018\",\n",
    "        \"TTWq2016APV\",\n",
    "        \"TTWq2016\",\n",
    "        \"TTWq2017\",\n",
    "        \"TTWq2018\",\n",
    "        \"TTZM102016APV\",\n",
    "        \"TTZM102016\",\n",
    "        \"TTZM102017\",\n",
    "    \"TTZM102018\"\n",
    "    ],\n",
    "    \"QCD\": [\n",
    "        \"QCDHT10002016APV\",\n",
    "        \"QCDHT10002016\",\n",
    "        \"QCDHT10002017\",\n",
    "        \"QCDHT10002018\",\n",
    "        \"QCDHT15002016APV\",\n",
    "        \"QCDHT15002016\",\n",
    "        \"QCDHT15002017\",\n",
    "        \"QCDHT15002018\",\n",
    "        \"QCDHT20002016APV\",\n",
    "        \"QCDHT20002016\",\n",
    "        \"QCDHT20002017\",\n",
    "        \"QCDHT20002018\",\n",
    "        \"QCDHT2002016APV\",\n",
    "        \"QCDHT2002016\",\n",
    "        \"QCDHT2002017\",\n",
    "        \"QCDHT2002018\",\n",
    "        \"QCDHT3002016APV\",\n",
    "        \"QCDHT3002016\",\n",
    "        \"QCDHT3002017\",\n",
    "        \"QCDHT3002018\",\n",
    "        \"QCDHT5002016APV\",\n",
    "        \"QCDHT5002016\",\n",
    "        \"QCDHT5002017\",\n",
    "        \"QCDHT5002018\",\n",
    "        \"QCDHT7002016APV\",\n",
    "        \"QCDHT7002016\",\n",
    "        \"QCDHT7002017\",\n",
    "        \"QCDHT7002018\",\n",
    "    ],   \n",
    "}"
   ]
  },
  {
   "cell_type": "code",
   "execution_count": 6,
   "metadata": {},
   "outputs": [
    {
     "name": "stdout",
     "output_type": "stream",
     "text": [
      "Loading data:\n"
     ]
    },
    {
     "name": "stderr",
     "output_type": "stream",
     "text": [
      "100%|██████████| 34/34 [00:00<00:00, 18734.41it/s]"
     ]
    },
    {
     "name": "stdout",
     "output_type": "stream",
     "text": [
      "Loading signal:\n"
     ]
    },
    {
     "name": "stderr",
     "output_type": "stream",
     "text": [
      "\n"
     ]
    }
   ],
   "source": [
    "fBase = \"W_MT <= 200\"\n",
    "variables = [\n",
    "    \"NJets_DeepFlavL\",\n",
    "    \"NJets_forward\",\n",
    "    \"Bprime_mass\",\n",
    "    \"gcJet_ST\"\n",
    "]\n",
    "rDF = { \"DATA\": {}, \"SIG\": {}, \"BKG\": {} }\n",
    "print( \"Loading data:\" )\n",
    "for f in tqdm( fDATA ):\n",
    "    samplename = samples[f].samplename.split('/')[1]\n",
    "    year = (f.split('Run')[1])[:-1]\n",
    "    #print(f, samplename, year)\n",
    "    fChain = readTreeNominal( samplename, year, rPath)\n",
    "    #rDF[\"DATA\"][f] = ROOT.RDataFrame( fChain ).Filter( fBase ).AsNumpy( columns = variables )\n",
    "print( \"Loading signal:\" )\n",
    "# for f in tqdm( fSIG ):\n",
    "#     samplename = samples[f].samplename.split('/')[1]\n",
    "#     year = (f.split('Run')[1])[:-1]\n",
    "#     print(f, samplename, year)\n",
    "#     rDF_ = ROOT.RDataFrame( nTree, rDir + f ).Filter( fBase ).Define( \"weight\", \"compute_weight( {}, triggerXSF, triggerSF, pileupWeight, pileupJetIDWeight, lepIdSF, isoSF, L1NonPrefiringProb_CommonCalc, MCWeight_MultiLepCalc, tthfWeight, btagDeepJetWeight, btagDeepJet2DWeight_HTnj )\".format( xsec.norm[f] ) )\n",
    "#     rDF[\"SIG\"][f] = rDF_.AsNumpy( columns = variables + [ \"weight\" ] )\n",
    "# for g in fBKG:\n",
    "#     rDF[\"BKG\"][g] = {}\n",
    "#     print( \"Loading background group: \" + g )\n",
    "#     for f in tqdm( fBKG[g] ):\n",
    "#         if g == \"TTBAR\":\n",
    "#             rDF_ = ROOT.RDataFrame( nTree, rDir + f ).Filter( fBase ).Define( \"weight\", \"compute_weight_ttbar( {}, triggerXSF, triggerSF, pileupWeight, pileupJetIDWeight, topPtWeight13TeV, lepIdSF, isoSF, L1NonPrefiringProb_CommonCalc, MCWeight_MultiLepCalc, tthfWeight, btagDeepJetWeight, btagDeepJet2DWeight_HTnj )\".format( xsec.norm[f] ) )\n",
    "#         else:\n",
    "#             rDF_ = ROOT.RDataFrame( nTree, rDir + f ).Filter( fBase ).Define( \"weight\", \"compute_weight( {}, triggerXSF, triggerSF, pileupWeight, pileupJetIDWeight, lepIdSF, isoSF, L1NonPrefiringProb_CommonCalc, MCWeight_MultiLepCalc, tthfWeight, btagDeepJetWeight, btagDeepJet2DWeight_HTnj )\".format( xsec.norm[f] ) )\n",
    "#         rDF[\"BKG\"][g][f] = rDF_.AsNumpy( columns = variables + [ \"weight\" ] )"
   ]
  },
  {
   "cell_type": "markdown",
   "metadata": {},
   "source": [
    "## Get the yields in each region"
   ]
  },
  {
   "cell_type": "code",
   "execution_count": 11,
   "metadata": {},
   "outputs": [],
   "source": [
    "def rel( limits, val, df ):\n",
    "    if val >= limits[-1]: return df >= val\n",
    "    else: return df == val\n",
    "    return df == val"
   ]
  },
  {
   "cell_type": "code",
   "execution_count": 12,
   "metadata": {},
   "outputs": [],
   "source": [
    "nJ = np.linspace( 4, 5, 2 )\n",
    "nB = np.linspace( 0, 2, 3 )\n",
    "\n",
    "yields = { \"DATA\": {}, \"SIG\": {}, \"BKG\": {} }\n",
    "mc_count = { \"BKG\": {} }\n",
    "\n",
    "for nJ_ in nJ:\n",
    "    yields[ \"DATA\" ][nJ_] = {}\n",
    "    yields[ \"SIG\" ][nJ_] = {}\n",
    "    yields[ \"BKG\" ][nJ_] = {}\n",
    "    mc_count[ \"BKG\" ][nJ_] = {}\n",
    "    for nB_ in nB:\n",
    "        yields[ \"DATA\" ][nJ_][nB_] = {}\n",
    "        yields[ \"SIG\" ][nJ_][nB_] = {}\n",
    "        yields[ \"BKG\" ][nJ_][nB_] = {}\n",
    "        mc_count[ \"BKG\" ][nJ_][nB_] = 0\n",
    "        for f in rDF[ \"DATA\" ]:\n",
    "            mask = ( rel(  nJ, nJ_, rDF[ \"DATA\" ][f][\"NJets_JetSubCalc\"]  ) ) & ( rel( nB, nB_, rDF[ \"DATA\" ][f][\"NJetsCSV_JetSubCalc\"] ) )\n",
    "            yields[ \"DATA\" ][nJ_][nB_][f] = np.sum( mask )\n",
    "        for f in rDF[ \"SIG\" ]:\n",
    "            mask = ( rel(  nJ, nJ_, rDF[ \"SIG\" ][f][\"NJets_JetSubCalc\"]  ) ) & ( rel( nB, nB_, rDF[ \"SIG\" ][f][\"NJetsCSV_JetSubCalc\"] ) )\n",
    "            yields[ \"SIG\" ][nJ_][nB_][f] = np.sum( rDF[ \"SIG\" ][f][ \"weight\" ][mask] )\n",
    "        for g in rDF[ \"BKG\" ]:\n",
    "            yields[ \"BKG\" ][nJ_][nB_][g] = {}\n",
    "            for f in rDF[\"BKG\"][g]:\n",
    "                mask = ( rel(  nJ, nJ_, rDF[ \"BKG\" ][g][f][\"NJets_JetSubCalc\"]  ) ) & ( rel( nB, nB_, rDF[ \"BKG\" ][g][f][\"NJetsCSV_JetSubCalc\"] ) )\n",
    "                yields[ \"BKG\" ][nJ_][nB_][g][f] = np.sum( rDF[ \"BKG\" ][g][f][ \"weight\" ][ mask ] )\n",
    "                if g == \"TTBAR\":\n",
    "                    mc_count[ \"BKG\" ][nJ_][nB_] += int( np.sum(mask) )"
   ]
  },
  {
   "cell_type": "markdown",
   "metadata": {},
   "source": [
    "Compute the group yields"
   ]
  },
  {
   "cell_type": "code",
   "execution_count": 13,
   "metadata": {},
   "outputs": [
    {
     "name": "stdout",
     "output_type": "stream",
     "text": [
      "Yields for (NJ,NB) = (4.0,0.0)\n",
      "  - Data: 379716\n",
      "  - Signal: 0.22\n",
      "  - Background (TTBAR): 64990.98\n",
      "  - Background (TOP): 6025.12\n",
      "  - Background (TTH): 81.80\n",
      "  - Background (EWK): 237727.24\n",
      "  - Background (QCD): 97648.80\n",
      "  - Total Background: 406473.94\n",
      "Yields for (NJ,NB) = (4.0,1.0)\n",
      "  - Data: 307929\n",
      "  - Signal: 0.85\n",
      "  - Background (TTBAR): 232048.34\n",
      "  - Background (TOP): 20110.78\n",
      "  - Background (TTH): 298.34\n",
      "  - Background (EWK): 45964.73\n",
      "  - Background (QCD): 38907.84\n",
      "  - Total Background: 337330.02\n",
      "Yields for (NJ,NB) = (4.0,2.0)\n",
      "  - Data: 239622\n",
      "  - Signal: 1.35\n",
      "  - Background (TTBAR): 222612.68\n",
      "  - Background (TOP): 15050.24\n",
      "  - Background (TTH): 545.76\n",
      "  - Background (EWK): 7287.40\n",
      "  - Background (QCD): 8287.17\n",
      "  - Total Background: 253783.25\n",
      "Yields for (NJ,NB) = (5.0,0.0)\n",
      "  - Data: 154165\n",
      "  - Signal: 0.39\n",
      "  - Background (TTBAR): 41523.27\n",
      "  - Background (TOP): 2785.18\n",
      "  - Background (TTH): 98.55\n",
      "  - Background (EWK): 76521.98\n",
      "  - Background (QCD): 38991.36\n",
      "  - Total Background: 159920.35\n",
      "Yields for (NJ,NB) = (5.0,1.0)\n",
      "  - Data: 197575\n",
      "  - Signal: 2.09\n",
      "  - Background (TTBAR): 171893.56\n",
      "  - Background (TOP): 10612.13\n",
      "  - Background (TTH): 431.02\n",
      "  - Background (EWK): 19810.34\n",
      "  - Background (QCD): 21613.53\n",
      "  - Total Background: 224360.57\n",
      "Yields for (NJ,NB) = (5.0,2.0)\n",
      "  - Data: 219917\n",
      "  - Signal: 7.16\n",
      "  - Background (TTBAR): 217201.58\n",
      "  - Background (TOP): 11427.55\n",
      "  - Background (TTH): 1151.74\n",
      "  - Background (EWK): 4525.96\n",
      "  - Background (QCD): 5933.99\n",
      "  - Total Background: 240240.83\n"
     ]
    }
   ],
   "source": [
    "for nJ_ in nJ:\n",
    "    for nB_ in nB:\n",
    "        print( \"Yields for (NJ,NB) = ({},{})\".format(nJ_,nB_) )\n",
    "        yields[ \"DATA\" ][nJ_][nB_][ \"TOTAL\" ] = 0\n",
    "        for f in rDF[ \"DATA\" ]:\n",
    "            yields[ \"DATA\" ][nJ_][nB_][ \"TOTAL\" ] += yields[ \"DATA\" ][nJ_][nB_][f]\n",
    "        print( \"  - Data: {}\".format( yields[ \"DATA\" ][nJ_][nB_][ \"TOTAL\" ] ) )\n",
    "        yields[ \"SIG\" ][nJ_][nB_][ \"TOTAL\" ] = 0\n",
    "        for f in rDF[ \"SIG\" ]:\n",
    "            yields[ \"SIG\" ][nJ_][nB_][ \"TOTAL\" ] += yields[ \"SIG\" ][nJ_][nB_][f]\n",
    "        print( \"  - Signal: {:.2f}\".format( yields[ \"SIG\" ][nJ_][nB_][ \"TOTAL\" ] ) )\n",
    "        yields[ \"BKG\" ][nJ_][nB_][ \"TOTAL\" ] = 0\n",
    "        for g in rDF[ \"BKG\" ]:\n",
    "            yields[ \"BKG\" ][nJ_][nB_][g][ \"TOTAL\" ] = 0\n",
    "            for f in rDF[ \"BKG\" ][g]:\n",
    "                yields[ \"BKG\" ][nJ_][nB_][g][ \"TOTAL\" ] += yields[ \"BKG\" ][nJ_][nB_][g][f]\n",
    "                yields[ \"BKG\" ][nJ_][nB_][ \"TOTAL\" ] += yields[ \"BKG\" ][nJ_][nB_][g][f]\n",
    "            print( \"  - Background ({}): {:.2f}\".format( g, yields[ \"BKG\" ][nJ_][nB_][g][ \"TOTAL\" ] ) )\n",
    "        print( \"  - Total Background: {:.2f}\".format( yields[ \"BKG\" ][nJ_][nB_][ \"TOTAL\" ] ) )"
   ]
  },
  {
   "cell_type": "markdown",
   "metadata": {},
   "source": [
    "Get the relative composition of the background"
   ]
  },
  {
   "cell_type": "code",
   "execution_count": 14,
   "metadata": {},
   "outputs": [
    {
     "name": "stdout",
     "output_type": "stream",
     "text": [
      "Background breakdown for (NJ,NB) = (4.0,0.0)\n",
      "  - TTBAR : 15.99 %\n",
      "  - TOP   : 1.48 %\n",
      "  - TTH   : 0.02 %\n",
      "  - EWK   : 58.49 %\n",
      "  - QCD   : 24.02 %\n",
      "Background breakdown for (NJ,NB) = (4.0,1.0)\n",
      "  - TTBAR : 68.79 %\n",
      "  - TOP   : 5.96 %\n",
      "  - TTH   : 0.09 %\n",
      "  - EWK   : 13.63 %\n",
      "  - QCD   : 11.53 %\n",
      "Background breakdown for (NJ,NB) = (4.0,2.0)\n",
      "  - TTBAR : 87.72 %\n",
      "  - TOP   : 5.93 %\n",
      "  - TTH   : 0.22 %\n",
      "  - EWK   : 2.87 %\n",
      "  - QCD   : 3.27 %\n",
      "Background breakdown for (NJ,NB) = (5.0,0.0)\n",
      "  - TTBAR : 25.96 %\n",
      "  - TOP   : 1.74 %\n",
      "  - TTH   : 0.06 %\n",
      "  - EWK   : 47.85 %\n",
      "  - QCD   : 24.38 %\n",
      "Background breakdown for (NJ,NB) = (5.0,1.0)\n",
      "  - TTBAR : 76.61 %\n",
      "  - TOP   : 4.73 %\n",
      "  - TTH   : 0.19 %\n",
      "  - EWK   : 8.83 %\n",
      "  - QCD   : 9.63 %\n",
      "Background breakdown for (NJ,NB) = (5.0,2.0)\n",
      "  - TTBAR : 90.41 %\n",
      "  - TOP   : 4.76 %\n",
      "  - TTH   : 0.48 %\n",
      "  - EWK   : 1.88 %\n",
      "  - QCD   : 2.47 %\n"
     ]
    }
   ],
   "source": [
    "breakdown = {}\n",
    "for nJ_ in nJ:\n",
    "    breakdown[nJ_] = {}\n",
    "    for nB_ in nB:\n",
    "        breakdown[nJ_][nB_] = {}\n",
    "        print( \"Background breakdown for (NJ,NB) = ({},{})\".format(nJ_,nB_) )\n",
    "        for g in rDF[ \"BKG\" ]:\n",
    "            breakdown[nJ_][nB_][g] = yields[ \"BKG\" ][nJ_][nB_][g][\"TOTAL\"] / yields[ \"BKG\" ][nJ_][nB_][\"TOTAL\"]\n",
    "            print( \"  - {:<6}: {:.2f} %\".format( g, breakdown[nJ_][nB_][g] * 100. ) )\n",
    "\n"
   ]
  },
  {
   "cell_type": "code",
   "execution_count": 15,
   "metadata": {},
   "outputs": [
    {
     "name": "stdout",
     "output_type": "stream",
     "text": [
      "| (NJ,NB) | TTBAR  | TOP    | TTH    | EWK    | QCD    | Total #    |\n",
      "| (4 ,0 ) | 15.99  | 1.48   | 0.02   | 58.49  | 24.02  | 406473.94  |\n",
      "| (4 ,1 ) | 68.79  | 5.96   | 0.09   | 13.63  | 11.53  | 337330.02  |\n",
      "| (4 ,2 ) | 87.72  | 5.93   | 0.22   | 2.87   | 3.27   | 253783.25  |\n",
      "| (5 ,0 ) | 25.96  | 1.74   | 0.06   | 47.85  | 24.38  | 159920.35  |\n",
      "| (5 ,1 ) | 76.61  | 4.73   | 0.19   | 8.83   | 9.63   | 224360.57  |\n",
      "| (5 ,2 ) | 90.41  | 4.76   | 0.48   | 1.88   | 2.47   | 240240.83  |\n"
     ]
    }
   ],
   "source": [
    "print( \"| (NJ,NB) | {:<6} | {:<6} | {:<6} | {:<6} | {:<6} | {:<10} |\".format( \"TTBAR\", \"TOP\", \"TTH\", \"EWK\", \"QCD\", \"Total #\" ) )\n",
    "for nJ_, nB_ in itertools.product( nJ, nB ):\n",
    "    sNJ = \"{}\".format( int(nJ_) ) if nJ_ == nJ[-1] else int(nJ_)\n",
    "    sNB = \"{}\".format( int(nB_) ) if nB_ == nB[-1] else int(nB_)\n",
    "    print( \"| ({:<2},{:<2}) | {:<6.2f} | {:<6.2f} | {:<6.2f} | {:<6.2f} | {:<6.2f} | {:<10.2f} |\".format( sNJ, sNB, 100*breakdown[nJ_][nB_][\"TTBAR\"], 100*breakdown[nJ_][nB_][\"TOP\"], 100*breakdown[nJ_][nB_][\"TTH\"], 100*breakdown[nJ_][nB_][\"EWK\"], 100*breakdown[ nJ_][nB_][\"QCD\"], yields[ \"BKG\" ][nJ_][nB_][\"TOTAL\"] ) )"
   ]
  },
  {
   "cell_type": "markdown",
   "metadata": {},
   "source": [
    "### Signal region prediction without background subtraction\n",
    "Define yields"
   ]
  },
  {
   "cell_type": "code",
   "execution_count": 16,
   "metadata": {},
   "outputs": [],
   "source": [
    "def get_region( nJ_, nJ, nB_, nB ):\n",
    "    if len(nJ) == 3:\n",
    "        if nJ_ == nJ[0] and nB_ == nB[0]: return \"X\"\n",
    "        if nJ_ == nJ[0] and nB_ >= nB[1]: return \"Y\"\n",
    "        if nJ_ == nJ[1] and nB_ == nB[0]: return \"A\"\n",
    "        if nJ_ == nJ[1] and nB_ >= nB[1]: return \"C\"\n",
    "        if nJ_ >= nJ[2] and nB_ == nB[0]: return \"B\"\n",
    "        return \"D\"\n",
    "    else:\n",
    "        if nJ_ == nJ[0] and nB_ == nB[0]: return \"X\"\n",
    "        if nJ_ == nJ[0] and nB_ == nB[1]: return \"A\"\n",
    "        if nJ_ == nJ[0] and nB_ >= nB[2]: return \"B\"\n",
    "        if nJ_ >= nJ[1] and nB_ == nB[0]: return \"Y\"\n",
    "        if nJ_ >= nJ[1] and nB_ == nB[1]: return \"C\"\n",
    "        return \"D\""
   ]
  },
  {
   "cell_type": "code",
   "execution_count": 17,
   "metadata": {},
   "outputs": [],
   "source": [
    "yields_region = {\n",
    "    \"MC\": { region: 0 for region in [ \"A\", \"B\", \"C\", \"D\", \"X\", \"Y\" ] },\n",
    "    \"Data\": { region: 0 for region in [ \"A\", \"B\", \"C\", \"D\", \"X\", \"Y\" ] }\n",
    "}\n",
    "\n",
    "for nJ_ in nJ:\n",
    "    for nB_ in nB:\n",
    "        yields_region[ \"MC\" ][ get_region( nJ_, nJ, nB_, nB ) ] = int(yields[ \"BKG\" ][nJ_][nB_][ \"TOTAL\" ])\n",
    "        yields_region[ \"Data\" ][ get_region( nJ_, nJ, nB_, nB ) ] = int(yields[ \"DATA\" ][nJ_][nB_][ \"TOTAL\" ])"
   ]
  },
  {
   "cell_type": "markdown",
   "metadata": {},
   "source": [
    "ABCD vs Extended ABCD Prediction"
   ]
  },
  {
   "cell_type": "code",
   "execution_count": 18,
   "metadata": {},
   "outputs": [
    {
     "name": "stdout",
     "output_type": "stream",
     "text": [
      "NJ = [4. 5.]\n",
      "NB = [0. 1. 2.]\n",
      "ABCD Prediction (MC): 168792.44 pm 410.84 (Stat) pm 638.78 (Syst)\n",
      "Extended ABCD Prediction (MC): 285346.39 pm 534.18 (Stat) pm 1856.73 (Syst)\n",
      "MC SF: 240240.00 pm 410.84 (Stat)\n",
      "ABCD Prediction (Data): 174590.87 pm 417.84 (Stat) pm 661.56 (Syst)\n",
      "Extended ABCD Prediction (Data): 242975.56 pm 492.93 (Stat) pm 1657.39 (Syst)\n",
      "Data: 219917.00\n"
     ]
    }
   ],
   "source": [
    "print( \"NJ = {}\".format(nJ ) )\n",
    "print( \"NB = {}\".format(nB) )\n",
    "\n",
    "mcPred, mcPredSyst = ABCD( yields_region[ \"MC\" ][ \"A\" ], yields_region[ \"MC\" ][ \"B\" ], yields_region[ \"MC\" ][ \"C\" ] )\n",
    "mcPredExt, mcPredSystExt = extended_ABCD( yields_region[ \"MC\" ][ \"A\" ], yields_region[ \"MC\" ][ \"B\" ], yields_region[ \"MC\" ][ \"C\" ], yields_region[ \"MC\" ][ \"X\" ], yields_region[ \"MC\" ][ \"Y\" ] )\n",
    "\n",
    "print( \"ABCD Prediction (MC): {:.2f} pm {:.2f} (Stat) pm {:.2f} (Syst)\".format( mcPred, np.sqrt(mcPred), mcPredSyst ) )\n",
    "print( \"Extended ABCD Prediction (MC): {:.2f} pm {:.2f} (Stat) pm {:.2f} (Syst)\".format( mcPredExt, np.sqrt(mcPredExt), mcPredSystExt ) )\n",
    "print( \"MC SF: {:.2f} pm {:.2f} (Stat)\".format( yields_region[ \"MC\" ][ \"D\" ], np.sqrt(mcPred) ) )\n",
    "\n",
    "dataPred, dataPredSyst = ABCD( yields_region[ \"Data\" ][ \"A\" ], yields_region[ \"Data\" ][ \"B\" ], yields_region[ \"MC\" ][ \"C\" ] )\n",
    "dataPredExt, dataPredSystExt = extended_ABCD( yields_region[ \"Data\" ][ \"A\" ], yields_region[ \"Data\" ][ \"B\" ], yields_region[ \"Data\" ][ \"C\" ], yields_region[ \"Data\" ][ \"X\" ], yields_region[ \"Data\" ][ \"Y\" ] )\n",
    "\n",
    "print( \"ABCD Prediction (Data): {:.2f} pm {:.2f} (Stat) pm {:.2f} (Syst)\".format( dataPred, np.sqrt(dataPred), dataPredSyst ) )\n",
    "print( \"Extended ABCD Prediction (Data): {:.2f} pm {:.2f} (Stat) pm {:.2f} (Syst)\".format( dataPredExt, np.sqrt(dataPredExt), dataPredSystExt ) )\n",
    "print( \"Data: {:.2f}\".format( yields_region[ \"Data\" ][ \"D\" ] ) )"
   ]
  },
  {
   "cell_type": "markdown",
   "metadata": {},
   "source": [
    "## Signal region prediction with background subtraction\n",
    "In each case, the minor SF background is added back directly"
   ]
  },
  {
   "cell_type": "code",
   "execution_count": 19,
   "metadata": {},
   "outputs": [
    {
     "name": "stdout",
     "output_type": "stream",
     "text": [
      "The minor background in Region D (NJ,NB)=(5,2) is: 17105.3\n"
     ]
    }
   ],
   "source": [
    "minor_bkg = yields[ \"BKG\" ][nJ[-1]][nB[-1]][ \"TOP\" ][\"TOTAL\"] + yields[ \"BKG\" ][nJ[-1]][nB[-1]][ \"TTH\" ][\"TOTAL\"] + yields[ \"BKG\" ][nJ[-1]][nB[-1]][ \"EWK\" ][\"TOTAL\"] \n",
    "print( \"The minor background in Region D (NJ,NB)=({},{}) is: {:.1f}\".format( int(nJ[-1]), int(nB[-1]), minor_bkg ) )"
   ]
  },
  {
   "cell_type": "code",
   "execution_count": 20,
   "metadata": {},
   "outputs": [],
   "source": [
    "def subtraction_relative( data, bkg_tot, bkg_major ):\n",
    "    return ( bkg_major / bkg_tot ) * data\n",
    "    \n",
    "def subtraction_absolute( data, bkg_minor ):\n",
    "    return float( data - bkg_minor )\n",
    "\n",
    "def p_diff( x, y ):\n",
    "    return abs( 100. * ( x - y ) / x )"
   ]
  },
  {
   "cell_type": "markdown",
   "metadata": {},
   "source": [
    "### Option 1: Relative subtraction before prediction\n",
    "Remove a fraction of the data in CR beforemaking the prediction, and then add the minor SF background back to SR"
   ]
  },
  {
   "cell_type": "code",
   "execution_count": 21,
   "metadata": {},
   "outputs": [
    {
     "name": "stdout",
     "output_type": "stream",
     "text": [
      "Option 1: Relative subtraction before prediction in NJ = [4. 5.], NB = [0. 1. 2.]\n",
      "  - ABCD Prediction w/ subtraction (Data): 150199.62 + 17105.26 = 167304.88 (23.92 %)\n",
      "    + Transfer Factor: 0.01649\n",
      "  - ABCD Prediction (Data): 174590.87 (20.61 %)\n",
      "    + Transfer Factor: 0.01917\n",
      "  - Extended ABCD Prediction w/ subtraction (Data): 202557.33 + 17105.26 = 219662.59 (0.12 %)\n",
      "    + Systematic: 0.0080 (1616.64/202557.33)\n",
      "    + Statistical: 0.0022 (450.06/202557.33)\n",
      "    + Closure: 0.0012 (219662.59/219917)\n",
      "    + Transfer Factor: 0.02224\n",
      "  - Extended ABCD Prediction (Data): 242975.56 (10.49 %)\n",
      "    + Transfer Factor: 0.02668\n",
      "  - MC SF Prediction: 240240.83 (9.24 %)\n",
      "  - Data: 219917\n"
     ]
    }
   ],
   "source": [
    "print( \"Option 1: Relative subtraction before prediction in NJ = {}, NB = {}\".format( nJ, nB ) )\n",
    "yields_subRel_region = {\n",
    "    \"Data\": { region: 0 for region in [ \"A\", \"B\", \"C\", \"D\", \"X\", \"Y\" ] }\n",
    "}\n",
    "\n",
    "for nJ_ in nJ:\n",
    "    for nB_ in nB:\n",
    "        yields_subRel_region[ \"Data\" ][ get_region( nJ_, nJ, nB_, nB ) ] = subtraction_relative( \n",
    "            int(yields[ \"DATA\" ][nJ_][nB_][ \"TOTAL\" ]), \n",
    "            int(yields[ \"BKG\" ][nJ_][nB_][ \"TOTAL\" ]) + int(yields[ \"SIG\" ][nJ_][nB_][ \"TOTAL\" ]), \n",
    "            int(yields[ \"BKG\" ][nJ_][nB_][ \"TTBAR\" ][\"TOTAL\"]) + int(yields[ \"BKG\" ][nJ_][nB_][ \"QCD\" ][\"TOTAL\"])\n",
    "        )\n",
    "\n",
    "mcPred, mcPredSyst = ABCD( yields_subRel_region[ \"Data\" ][ \"A\" ], yields_subRel_region[ \"Data\" ][ \"B\" ], yields_subRel_region[ \"Data\" ][ \"C\" ] )\n",
    "mcPredExt, mcPredSystExt = extended_ABCD( yields_subRel_region[ \"Data\" ][ \"A\" ], yields_subRel_region[ \"Data\" ][ \"B\" ], yields_subRel_region[ \"Data\" ][ \"C\" ],  yields_subRel_region[ \"Data\" ][ \"X\" ], yields_subRel_region[ \"Data\" ][ \"Y\" ] )\n",
    "        \n",
    "print( \"  - ABCD Prediction w/ subtraction (Data): {:.2f} + {:.2f} = {:.2f} ({:.2f} %)\".format( mcPred, minor_bkg, mcPred + minor_bkg, p_diff( yields_region[ \"Data\" ][ \"D\" ], mcPred + minor_bkg ) ) )\n",
    "print( \"    + Transfer Factor: {:.5f}\".format( mcPred / mc_count[ \"BKG\" ][nJ[-1]][nB[-1]] ) )\n",
    "print( \"  - ABCD Prediction (Data): {:.2f} ({:.2f} %)\".format( dataPred, p_diff( yields_region[ \"Data\" ][ \"D\" ], dataPred ) ) )\n",
    "print( \"    + Transfer Factor: {:.5f}\".format( dataPred / mc_count[ \"BKG\" ][nJ[-1]][nB[-1]] ) )\n",
    "print( \"  - Extended ABCD Prediction w/ subtraction (Data): {:.2f} + {:.2f} = {:.2f} ({:.2f} %)\".format( mcPredExt, minor_bkg, mcPredExt + minor_bkg, p_diff( yields_region[ \"Data\" ][ \"D\" ], mcPredExt + minor_bkg ) ) )\n",
    "print( \"    + Systematic: {:.4f} ({:.2f}/{:.2f})\".format( mcPredSystExt / mcPredExt, mcPredSystExt, mcPredExt ) )\n",
    "print( \"    + Statistical: {:.4f} ({:.2f}/{:.2f})\".format( np.sqrt(mcPredExt)/mcPredExt, np.sqrt(mcPredExt), mcPredExt ) )\n",
    "print( \"    + Closure: {:.4f} ({:.2f}/{})\".format( abs( mcPredExt + minor_bkg - yields_region[\"Data\"][\"D\"] ) /yields_region[\"Data\"][\"D\"], mcPredExt + minor_bkg, yields_region[\"Data\"][\"D\"] ) )\n",
    "print( \"    + Transfer Factor: {:.5f}\".format( mcPredExt / mc_count[ \"BKG\" ][nJ[-1]][nB[-1]] ) )\n",
    "print( \"  - Extended ABCD Prediction (Data): {:.2f} ({:.2f} %)\".format( dataPredExt, p_diff( yields_region[ \"Data\" ][ \"D\" ], dataPredExt ) ) )\n",
    "print( \"    + Transfer Factor: {:.5f}\".format( dataPredExt / mc_count[ \"BKG\" ][nJ[-1]][nB[-1]] ) )\n",
    "print( \"  - MC SF Prediction: {:.2f} ({:.2f} %)\".format( yields[ \"BKG\" ][nJ[-1]][nB[-1]][ \"TOTAL\" ], p_diff( yields_region[ \"Data\" ][ \"D\" ], yields[ \"BKG\" ][nJ[-1]][nB[-1]][ \"TOTAL\" ] ) ) )\n",
    "print( \"  - Data: {}\".format( yields_region[ \"Data\" ][ \"D\" ] ) )"
   ]
  },
  {
   "cell_type": "markdown",
   "metadata": {},
   "source": [
    "### Option 2: Absolute subtraction before prediction \n",
    "Remove a fixed amount of the data in CR when making the prediction, and then add the minor SF background back to SR"
   ]
  },
  {
   "cell_type": "code",
   "execution_count": 22,
   "metadata": {},
   "outputs": [
    {
     "name": "stdout",
     "output_type": "stream",
     "text": [
      "Option 2: Absolute subtraction before prediction in NJ = [4. 5.], NB = [0. 1. 2.]\n",
      "  - ABCD Prediction w/ subtraction (Data): 149593.12 + 17105.26 = 166698.38 (24.20 %)\n",
      "    + Transfer Factor: 0.01643\n",
      "  - ABCD Prediction (Data): 174590.87 (20.61 %)\n",
      "    + Transfer Factor: 0.01917\n",
      "  - Extended ABCD Prediction w/ subtraction (Data): 187664.99 + 17105.26 = 204770.25 (6.89 %)\n",
      "    + Systematic: 0.0081 (1523.45/187664.99)\n",
      "    + Statistical: 0.0023 (433.20/187664.99)\n",
      "    + Closure: 0.0689 (204770.25/219917)\n",
      "    + Transfer Factor: 0.02061\n",
      "  - Extended ABCD Prediction (Data): 242975.56 (10.49 %)\n",
      "    + Transfer Factor: 0.02668\n",
      "  - MC SF Prediction: 240240.83 (9.24 %)\n",
      "  - Data: 219917\n"
     ]
    }
   ],
   "source": [
    "print( \"Option 2: Absolute subtraction before prediction in NJ = {}, NB = {}\".format( nJ, nB ) )\n",
    "yields_subAbs_region = {\n",
    "    \"Data\": { region: 0 for region in [ \"A\", \"B\", \"C\", \"D\", \"X\", \"Y\" ] }\n",
    "}\n",
    "\n",
    "for nJ_ in nJ:\n",
    "    for nB_ in nB:\n",
    "        yields_subAbs_region[ \"Data\" ][ get_region( nJ_, nJ, nB_, nB ) ] = subtraction_absolute( \n",
    "            int(yields[ \"DATA\" ][nJ_][nB_][ \"TOTAL\" ]), \n",
    "            yields[ \"BKG\" ][nJ_][nB_][ \"TOP\" ][\"TOTAL\"] + yields[ \"BKG\" ][nJ_][nB_][ \"EWK\" ][\"TOTAL\"] + yields[ \"BKG\" ][nJ_][nB_][ \"TTH\" ][\"TOTAL\"] # + yields[ \"BKG\" ][nJ_][nB_][ \"QCD\" ][\"TOTAL\"]\n",
    "        )\n",
    "\n",
    "mcPred, mcPredSyst = ABCD( yields_subAbs_region[ \"Data\" ][ \"A\" ], yields_subAbs_region[ \"Data\" ][ \"B\" ], yields_subAbs_region[ \"Data\" ][ \"C\" ] )\n",
    "mcPredExt, mcPredSystExt = extended_ABCD( yields_subAbs_region[ \"Data\" ][ \"A\" ], yields_subAbs_region[ \"Data\" ][ \"B\" ], yields_subAbs_region[ \"Data\" ][ \"C\" ],  yields_subAbs_region[ \"Data\" ][ \"X\" ], yields_subAbs_region[ \"Data\" ][ \"Y\" ] )\n",
    "        \n",
    "print( \"  - ABCD Prediction w/ subtraction (Data): {:.2f} + {:.2f} = {:.2f} ({:.2f} %)\".format( mcPred, minor_bkg, mcPred + minor_bkg, p_diff( yields_region[ \"Data\" ][ \"D\" ], mcPred + minor_bkg ) ) )\n",
    "print( \"    + Transfer Factor: {:.5f}\".format( mcPred / mc_count[ \"BKG\" ][nJ[-1]][nB[-1]] ) )\n",
    "print( \"  - ABCD Prediction (Data): {:.2f} ({:.2f} %)\".format( dataPred, p_diff( yields_region[ \"Data\" ][ \"D\" ], dataPred ) ) )\n",
    "print( \"    + Transfer Factor: {:.5f}\".format( dataPred / mc_count[ \"BKG\" ][nJ[-1]][nB[-1]] ) )\n",
    "print( \"  - Extended ABCD Prediction w/ subtraction (Data): {:.2f} + {:.2f} = {:.2f} ({:.2f} %)\".format( mcPredExt, minor_bkg, mcPredExt + minor_bkg, p_diff( yields_region[ \"Data\" ][ \"D\" ], mcPredExt + minor_bkg ) ) )\n",
    "print( \"    + Systematic: {:.4f} ({:.2f}/{:.2f})\".format( mcPredSystExt / mcPredExt, mcPredSystExt, mcPredExt ) )\n",
    "print( \"    + Statistical: {:.4f} ({:.2f}/{:.2f})\".format( np.sqrt(mcPredExt)/mcPredExt, np.sqrt(mcPredExt), mcPredExt ) )\n",
    "print( \"    + Closure: {:.4f} ({:.2f}/{})\".format( abs( mcPredExt + minor_bkg - yields_region[\"Data\"][\"D\"] ) /yields_region[\"Data\"][\"D\"], mcPredExt + minor_bkg, yields_region[\"Data\"][\"D\"] ) )\n",
    "print( \"    + Transfer Factor: {:.5f}\".format( mcPredExt / mc_count[ \"BKG\" ][nJ[-1]][nB[-1]] ) )\n",
    "print( \"  - Extended ABCD Prediction (Data): {:.2f} ({:.2f} %)\".format( dataPredExt, p_diff( yields_region[ \"Data\" ][ \"D\" ], dataPredExt ) ) )\n",
    "print( \"    + Transfer Factor: {:.5f}\".format( dataPredExt / mc_count[ \"BKG\" ][nJ[-1]][nB[-1]] ) )\n",
    "print( \"  - MC SF Prediction: {:.2f} ({:.2f} %)\".format( yields[ \"BKG\" ][nJ[-1]][nB[-1]][ \"TOTAL\" ], p_diff( yields_region[ \"Data\" ][ \"D\" ], yields[ \"BKG\" ][nJ[-1]][nB[-1]][ \"TOTAL\" ] ) ) )\n",
    "print( \"  - Data: {}\".format( yields_region[ \"Data\" ][ \"D\" ] ) )"
   ]
  },
  {
   "cell_type": "markdown",
   "metadata": {},
   "source": [
    "### Option 3: Relative subtraction after prediction\n",
    "Remove a fraction of the data in SR after the prediction, and then add the minor SF background back to the SR"
   ]
  },
  {
   "cell_type": "code",
   "execution_count": 23,
   "metadata": {},
   "outputs": [
    {
     "name": "stdout",
     "output_type": "stream",
     "text": [
      "Option 3: Absolute subtraction after prediction in NJ = [4. 5.], NB = [0. 1. 2.]\n",
      "  - ABCD Prediction w/ subtraction (Data): 165533.58 + 17105.26 = 182638.84 (16.95 %)\n",
      "    + Transfer Factor: 0.01688\n",
      "  - ABCD Prediction (Data): 174590.87 (20.61 %)\n",
      "    + Transfer Factor: 0.01917\n",
      "  - Extended ABCD Prediction w/ subtraction (Data): 261601.73 + 17105.26 = 278706.99 (26.73 %)\n",
      "    + Transfer Factor: 0.02668\n",
      "  - Extended ABCD Prediction (Data): 242975.56 (10.49 %)\n",
      "    + Transfer Factor: 0.02668\n",
      "  - MC SF Prediction: 240240.83 (9.24 %)\n",
      "  - Data: 219917\n"
     ]
    }
   ],
   "source": [
    "print( \"Option 3: Absolute subtraction after prediction in NJ = {}, NB = {}\".format( nJ, nB ) )\n",
    "yields_subRel_region = {\n",
    "    \"Data\": { region: 0 for region in [ \"A\", \"B\", \"C\", \"D\", \"X\", \"Y\" ] }\n",
    "}\n",
    "\n",
    "for nJ_ in nJ:\n",
    "    for nB_ in nB:\n",
    "        yields_subRel_region[ \"Data\" ][ get_region( nJ_, nJ, nB_, nB ) ] = int(yields[ \"DATA\" ][nJ_][nB_][ \"TOTAL\" ])\n",
    "\n",
    "mcPred, mcPredSyst = ABCD( yields_subRel_region[ \"Data\" ][ \"A\" ], yields_subRel_region[ \"Data\" ][ \"B\" ], yields_subRel_region[ \"Data\" ][ \"C\" ] )\n",
    "mcPredExt, mcPredSystExt = extended_ABCD( yields_subRel_region[ \"Data\" ][ \"A\" ], yields_subRel_region[ \"Data\" ][ \"B\" ], yields_subRel_region[ \"Data\" ][ \"C\" ],  yields_subRel_region[ \"Data\" ][ \"X\" ], yields_subRel_region[ \"Data\" ][ \"Y\" ] )\n",
    "\n",
    "mcPredSub = subtraction_relative( mcPred, yields[ \"BKG\" ][nJ[-1]][nB[-1]][ \"TTBAR\" ][\"TOTAL\"] + yields[ \"BKG\" ][nJ[-1]][nB[-1]][ \"QCD\" ][\"TOTAL\"], yields[ \"BKG\" ][nJ[-1]][nB[-1]][\"TOTAL\"] )\n",
    "mcPredExtSub = subtraction_relative( mcPredExt, yields[ \"BKG\" ][nJ[-1]][nB[-1]][ \"TTBAR\" ][\"TOTAL\"] + yields[ \"BKG\" ][nJ[-1]][nB[-1]][ \"QCD\" ][\"TOTAL\"], yields[ \"BKG\" ][nJ[-1]][nB[-1]][\"TOTAL\"] )\n",
    "\n",
    "print( \"  - ABCD Prediction w/ subtraction (Data): {:.2f} + {:.2f} = {:.2f} ({:.2f} %)\".format( mcPredSub, minor_bkg, mcPredSub + minor_bkg, p_diff( yields_region[ \"Data\" ][ \"D\" ], mcPredSub + minor_bkg ) ) )\n",
    "print( \"    + Transfer Factor: {:.5f}\".format( mcPred / mc_count[ \"BKG\" ][nJ[-1]][nB[-1]] ) )\n",
    "print( \"  - ABCD Prediction (Data): {:.2f} ({:.2f} %)\".format( dataPred, p_diff( yields_region[ \"Data\" ][ \"D\" ], dataPred ) ) )\n",
    "print( \"    + Transfer Factor: {:.5f}\".format( dataPred / mc_count[ \"BKG\" ][nJ[-1]][nB[-1]] ) )\n",
    "print( \"  - Extended ABCD Prediction w/ subtraction (Data): {:.2f} + {:.2f} = {:.2f} ({:.2f} %)\".format( mcPredExtSub, minor_bkg, mcPredExtSub + minor_bkg, p_diff( yields_region[ \"Data\" ][ \"D\" ], mcPredExtSub + minor_bkg ) ) )\n",
    "print( \"    + Transfer Factor: {:.5f}\".format( mcPredExt / mc_count[ \"BKG\" ][nJ[-1]][nB[-1]] ) )\n",
    "print( \"  - Extended ABCD Prediction (Data): {:.2f} ({:.2f} %)\".format( dataPredExt, p_diff( yields_region[ \"Data\" ][ \"D\" ], dataPredExt ) ) )\n",
    "print( \"    + Transfer Factor: {:.5f}\".format( dataPredExt / mc_count[ \"BKG\" ][nJ[-1]][nB[-1]] ) )\n",
    "print( \"  - MC SF Prediction: {:.2f} ({:.2f} %)\".format( yields[ \"BKG\" ][nJ[-1]][nB[-1]][ \"TOTAL\" ], p_diff( yields_region[ \"Data\" ][ \"D\" ], yields[ \"BKG\" ][nJ[-1]][nB[-1]][ \"TOTAL\" ] ) ) )\n",
    "print( \"  - Data: {}\".format( yields_region[ \"Data\" ][ \"D\" ] ) )"
   ]
  },
  {
   "cell_type": "markdown",
   "metadata": {},
   "source": [
    "## Extended ABCD Transfer Factor Scale Factor for Applying Cuts"
   ]
  },
  {
   "cell_type": "markdown",
   "metadata": {},
   "source": [
    "Calculate the Extended ABCD transfer factor scale factor after applying a cut"
   ]
  },
  {
   "cell_type": "code",
   "execution_count": null,
   "metadata": {},
   "outputs": [],
   "source": [
    "nJ = np.linspace(4,5,2)\n",
    "nB = np.linspace(0,2,3)\n",
    "yields = {}\n",
    "yields_cut = {}\n",
    "dnn_cut = 0.50\n",
    "fRegion = fBase\n",
    "\n",
    "for f in tqdm( fDATA + fBKG ):\n",
    "    yields[f] = {}\n",
    "    yields_cut[f] = {}\n",
    "    for nj in nJ:\n",
    "        yields[f][nj] = {}\n",
    "        yields_cut[f][nj] = {}\n",
    "        if nj == nJ[-1]:\n",
    "            mask_nj = ( rDF[f][\"NJets_JetSubCalc\"] >= nj )\n",
    "        else:\n",
    "            mask_nj = ( rDF[f][\"NJets_JetSubCalc\"] == nj )\n",
    "        for nb in nB:\n",
    "            if nb == nB[-1]:\n",
    "                mask_nb = mask_nj & ( rDF[f][\"NJetsCSV_JetSubCalc\"] >= nb )\n",
    "            else:\n",
    "                mask_nb = mask_nj & ( rDF[f][\"NJetsCSV_JetSubCalc\"] == nb )\n",
    "            if f in fBKG:\n",
    "                mask_cut = mask_nb & ( rDF[f][\"DNN_1to40_3t_nJ5pnB2p\"] > dnn_cut )\n",
    "            else:\n",
    "                mask_cut = mask_nb & ( rDF[f][\"DNN_1to40_3t\"] > dnn_cut )\n",
    "            yields[f][nj][nb] = np.sum( mask_nb )\n",
    "            yields_cut[f][nj][nb] = np.sum( mask_cut )\n",
    "            \n",
    "\n",
    "yields[\"DATA\"] = {}\n",
    "yields_cut[\"DATA\"] = {}\n",
    "yields[\"BKG\"] = {}\n",
    "yields_cut[\"BKG\"] = {}\n",
    "for nj in nJ:\n",
    "    yields[\"DATA\"][nj] = {}\n",
    "    yields_cut[\"DATA\"][nj] = {}\n",
    "    yields[\"BKG\"][nj] = {}\n",
    "    yields_cut[\"BKG\"][nj] = {}\n",
    "    for nb in nB:\n",
    "        yields[\"DATA\"][nj][nb] = 0\n",
    "        yields_cut[\"DATA\"][nj][nb] = 0\n",
    "        yields[\"BKG\"][nj][nb] = 0\n",
    "        yields_cut[\"BKG\"][nj][nb] = 0\n",
    "        for f in tqdm( fDATA ):\n",
    "            yields[\"DATA\"][nj][nb] += yields[f][nj][nb]\n",
    "            yields_cut[\"DATA\"][nj][nb] += yields_cut[f][nj][nb]\n",
    "        for f in tqdm( fBKG ):\n",
    "            yields[\"BKG\"][nj][nb] += yields[f][nj][nb]\n",
    "            yields_cut[\"BKG\"][nj][nb] += yields_cut[f][nj][nb]"
   ]
  },
  {
   "cell_type": "code",
   "execution_count": null,
   "metadata": {},
   "outputs": [],
   "source": [
    "X = [nJ[0],nB[0]]\n",
    "Y = [nJ[1],nB[0]]\n",
    "C = [nJ[1],nB[1]]\n",
    "A = [nJ[0],nB[1]]\n",
    "B = [nJ[0],nB[2]]\n",
    "D = [nJ[1],nB[2]]\n",
    "pD, pD_err = extended_ABCD(\n",
    "    X = int(yields[\"DATA\"][X[0]][X[1]]),\n",
    "    Y = int(yields[\"DATA\"][Y[0]][Y[1]]),\n",
    "    C = int(yields[\"DATA\"][C[0]][C[1]]),\n",
    "    A = int(yields[\"DATA\"][A[0]][A[1]]),\n",
    "    B = int(yields[\"DATA\"][B[0]][B[1]])\n",
    ")\n",
    "pD_cut, pD_cut_err = extended_ABCD(\n",
    "    X = int(yields_cut[\"DATA\"][X[0]][X[1]]),\n",
    "    Y = int(yields_cut[\"DATA\"][Y[0]][Y[1]]),\n",
    "    C = int(yields_cut[\"DATA\"][C[0]][C[1]]),\n",
    "    A = int(yields_cut[\"DATA\"][A[0]][A[1]]),\n",
    "    B = int(yields_cut[\"DATA\"][B[0]][B[1]])\n",
    ")"
   ]
  },
  {
   "cell_type": "code",
   "execution_count": null,
   "metadata": {},
   "outputs": [],
   "source": [
    "efficiency = {\n",
    "    \"DATA\": {},\n",
    "    \"BKG\": {}\n",
    "}\n",
    "for nj in nJ:\n",
    "    efficiency[\"DATA\"][nj] = {}\n",
    "    efficiency[\"BKG\"][nj]  = {}\n",
    "    for nb in nB:\n",
    "        efficiency[\"DATA\"][nj][nb] = yields_cut[\"DATA\"][nj][nb] / yields[\"DATA\"][nj][nb]\n",
    "        efficiency[\"BKG\"][nj][nb]  = yields_cut[\"BKG\"][nj][nb] / yields[\"BKG\"][nj][nb]"
   ]
  },
  {
   "cell_type": "code",
   "execution_count": null,
   "metadata": {},
   "outputs": [],
   "source": [
    "print( \"Extended ABCD predictions with base selection:\")\n",
    "print( \"  Predicted Yield: {:.2f}\".format( pD ) )\n",
    "print( \"  Observered Yield: {:.2f}\".format( yields[\"DATA\"][D[0]][D[1]] ) )\n",
    "print( \"  Data / Extended ABCD = {:.2f}\".format( yields[\"DATA\"][D[0]][D[1]] / pD ) )\n",
    "print( \"  Percent Difference: {:.2f}%\".format( 100. * ( pD - yields[\"DATA\"][D[0]][D[1]] ) / yields[\"DATA\"][D[0]][D[1]] ) )\n",
    "print( \"With ABCDnn DNN > {}:\".format( dnn_cut ) )\n",
    "print( \"  Predicted Yield with cut: {:.2f}\".format( pD_cut ) )\n",
    "print( \"  Observered Yield with cut: {:.2f}\".format( yields_cut[\"DATA\"][D[0]][D[1]] ) )\n",
    "print( \"  Data / Extended ABCD = {:.2f}\".format( yields_cut[\"DATA\"][D[0]][D[1]] / pD_cut ) )\n",
    "print( \"  Percent Difference with cut: {:.2f}%\".format( 100. * ( pD - yields_cut[\"DATA\"][D[0]][D[1]] ) / yields_cut[\"DATA\"][D[0]][D[1]] ) )\n",
    "print( \"Region | Data                          | MC                            |\")\n",
    "for nj in nJ:\n",
    "    for nb in nB:\n",
    "        if [nj,nb] == X: region = \"X\"\n",
    "        elif [nj,nb] == Y: region = \"Y\"\n",
    "        elif [nj,nb] == A: region = \"A\"\n",
    "        elif [nj,nb] == B: region = \"B\"\n",
    "        elif [nj,nb] == C: region = \"C\"\n",
    "        elif [nj,nb] == D: region = \"D\"\n",
    "        print( \"{}      | {:<8.0f} / {:<8.0f} = {:<4.3f}   | {:<8.0f} / {:<8.0f} = {:<4.3f}   |\".format(\n",
    "            region,\n",
    "            yields_cut[\"DATA\"][nj][nb], yields[\"DATA\"][nj][nb], efficiency[\"DATA\"][nj][nb],\n",
    "            yields_cut[\"BKG\"][nj][nb], yields[\"BKG\"][nj][nb], efficiency[\"BKG\"][nj][nb],\n",
    "        ) )\n",
    "print( \"Transfer Factor: {:.0f} / {:.0f} = {:.5f}\".format(\n",
    "    pD, yields[\"BKG\"][D[0]][D[1]], pD / yields[\"BKG\"][D[0]][D[1]]\n",
    ") )\n",
    "print( \"Transfer Factor w/ cut: {:.0f} / {:.0f} = {:.5f}\".format(\n",
    "    pD_cut, yields_cut[\"BKG\"][D[0]][D[1]], pD_cut / yields_cut[\"BKG\"][D[0]][D[1]]\n",
    ") )\n",
    "print( \"Extended ABCD yield w/ cut after transfer factor: {:.0f} x {:.5f} = {:.0f}\".format(\n",
    "    yields_cut[\"BKG\"][D[0]][D[1]], pD / yields[\"BKG\"][D[0]][D[1]], yields_cut[\"BKG\"][D[0]][D[1]] * pD / yields[\"BKG\"][D[0]][D[1]]\n",
    "))\n",
    "print( \"  --> Data / Extended ABCD = {:.2f}\".format( yields_cut[\"DATA\"][D[0]][D[1]] / ( yields_cut[\"BKG\"][D[0]][D[1]] * pD / yields[\"BKG\"][D[0]][D[1]] ) ) )\n",
    "print( \"  --> Percent Difference: {:.2f}%\".format( 100. * ( ( yields_cut[\"BKG\"][D[0]][D[1]] * pD / yields[\"BKG\"][D[0]][D[1]] ) - yields_cut[\"DATA\"][D[0]][D[1]] ) / yields_cut[\"DATA\"][D[0]][D[1]] ) )"
   ]
  },
  {
   "cell_type": "code",
   "execution_count": null,
   "metadata": {},
   "outputs": [],
   "source": []
  },
  {
   "cell_type": "code",
   "execution_count": null,
   "metadata": {},
   "outputs": [],
   "source": []
  }
 ],
 "metadata": {
  "kernelspec": {
   "display_name": "Python 2",
   "language": "python",
   "name": "python2"
  },
  "language_info": {
   "codemirror_mode": {
    "name": "ipython",
    "version": 2
   },
   "file_extension": ".py",
   "mimetype": "text/x-python",
   "name": "python",
   "nbconvert_exporter": "python",
   "pygments_lexer": "ipython2",
   "version": "2.7.15+"
  }
 },
 "nbformat": 4,
 "nbformat_minor": 5
}
