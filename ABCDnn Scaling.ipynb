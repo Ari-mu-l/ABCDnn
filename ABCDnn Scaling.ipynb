{
 "cells": [
  {
   "cell_type": "code",
   "execution_count": 1,
   "id": "4cd8c274",
   "metadata": {},
   "outputs": [
    {
     "name": "stdout",
     "output_type": "stream",
     "text": [
      "Welcome to JupyROOT 6.26/04\n"
     ]
    }
   ],
   "source": [
    "import ROOT\n",
    "import numpy as np\n",
    "import matplotlib.pyplot as plt\n",
    "import matplotlib.colors as colors\n",
    "from matplotlib import cm\n",
    "from matplotlib import patches\n",
    "import mplhep as hep\n",
    "import os\n",
    "from tqdm import tqdm\n",
    "import ipywidgets as widget\n",
    "import xsec"
   ]
  },
  {
   "cell_type": "code",
   "execution_count": 2,
   "id": "cdd5c539",
   "metadata": {},
   "outputs": [],
   "source": [
    "era = \"2017\"\n",
    "rPathABCDNN = \"root://cmseos.fnal.gov///store/user/dsunyou/\"\n",
    "rPath = \"root://brux30.hep.brown.edu:1094//store/user/dali/\"\n",
    "rDir = rPath + \"FWLJMET106XUL_singleLep{}UL_RunIISummer20_3t_step3/nominal/\".format( era )\n",
    "rDirABCDNN = rPath + \"FWLJMET106XUL_singleLep{}UL_RunIISummer20_3t_step3_ABCDnn/nominal/\".format( era )\n",
    "nTree = \"ljmet\"\n",
    "lumitext = {\n",
    "    \"2016APV\": \"19.52\",\n",
    "    \"2016\": \"16.80\",\n",
    "    \"2017\": \"41.48\",\n",
    "    \"2018\": \"59.83\"\n",
    "}\n",
    "fDAT = [\n",
    "    \"SingleElectron_hadd.root\",\n",
    "    \"SingleMuon_hadd.root\"\n",
    "]\n",
    "fBKG = [\n",
    "    \"ST_s-channel_4f_leptonDecays_TuneCP5_13TeV-amcatnlo-pythia8_hadd.root\",\n",
    "    \"ST_t-channel_top_4f_InclusiveDecays_TuneCP5_13TeV-powheg-madspin-pythia8_hadd.root\",\n",
    "    \"ST_t-channel_antitop_4f_InclusiveDecays_TuneCP5_13TeV-powheg-madspin-pythia8_hadd.root\",\n",
    "    \"ST_tW_top_5f_inclusiveDecays_TuneCP5_13TeV-powheg-pythia8_hadd.root\",\n",
    "    \"ST_tW_antitop_5f_inclusiveDecays_TuneCP5_13TeV-powheg-pythia8_hadd.root\",\n",
    "    \"TTTT_TuneCP5_13TeV-amcatnlo-pythia8_hadd.root\",\n",
    "    \"TTHH_TuneCP5_13TeV-madgraph-pythia8_hadd.root\",\n",
    "    \"TTWH_TuneCP5_13TeV-madgraph-pythia8_hadd.root\",\n",
    "    \"TTWW_TuneCP5_13TeV-madgraph-pythia8_hadd.root\",\n",
    "    \"TTWZ_TuneCP5_13TeV-madgraph-pythia8_hadd.root\",\n",
    "    \"TTZH_TuneCP5_13TeV-madgraph-pythia8_hadd.root\",\n",
    "    \"TTZZ_TuneCP5_13TeV-madgraph-pythia8_hadd.root\",\n",
    "    \"TTZToLLNuNu_M-10_TuneCP5_13TeV-amcatnlo-pythia8_hadd.root\",\n",
    "    \"TTWJetsToQQ_TuneCP5_13TeV-amcatnloFXFX-madspin-pythia8_hadd.root\", \n",
    "    \"TTWJetsToLNu_TuneCP5_13TeV-amcatnloFXFX-madspin-pythia8_hadd.root\",\n",
    "    \"TTZToLL_M-1to10_TuneCP5_13TeV-amcatnlo-pythia8_hadd.root\",\n",
    "    \"ttHTobb_M125_TuneCP5_13TeV-powheg-pythia8_hadd.root\",\n",
    "    \"ttHToNonbb_M125_TuneCP5_13TeV-powheg-pythia8_hadd.root\",\n",
    "    \"WW_TuneCP5_13TeV-pythia8_hadd.root\",\n",
    "    \"WZ_TuneCP5_13TeV-pythia8_hadd.root\",\n",
    "    \"ZZ_TuneCP5_13TeV-pythia8_hadd.root\",\n",
    "    \"DYJetsToLL_M-50_HT-200to400_TuneCP5_PSweights_13TeV-madgraphMLM-pythia8_hadd.root\",\n",
    "    \"DYJetsToLL_M-50_HT-400to600_TuneCP5_PSweights_13TeV-madgraphMLM-pythia8_hadd.root\",\n",
    "    \"DYJetsToLL_M-50_HT-600to800_TuneCP5_PSweights_13TeV-madgraphMLM-pythia8_hadd.root\",\n",
    "    \"DYJetsToLL_M-50_HT-800to1200_TuneCP5_PSweights_13TeV-madgraphMLM-pythia8_hadd.root\",\n",
    "    \"DYJetsToLL_M-50_HT-1200to2500_TuneCP5_PSweights_13TeV-madgraphMLM-pythia8_hadd.root\",\n",
    "    \"DYJetsToLL_M-50_HT-2500toInf_TuneCP5_PSweights_13TeV-madgraphMLM-pythia8_hadd.root\",\n",
    "    #\"QCD_HT200to300_TuneCP5_PSWeights_13TeV-madgraph-pythia8_hadd.root\",\n",
    "    #\"QCD_HT300to500_TuneCP5_PSWeights_13TeV-madgraph-pythia8_hadd.root\",\n",
    "    #\"QCD_HT500to700_TuneCP5_PSWeights_13TeV-madgraph-pythia8_hadd.root\",\n",
    "    \"QCD_HT700to1000_TuneCP5_PSWeights_13TeV-madgraph-pythia8_hadd.root\",\n",
    "    \"QCD_HT1000to1500_TuneCP5_PSWeights_13TeV-madgraph-pythia8_hadd.root\",\n",
    "    \"QCD_HT1500to2000_TuneCP5_PSWeights_13TeV-madgraph-pythia8_hadd.root\",\n",
    "    \"QCD_HT2000toInf_TuneCP5_PSWeights_13TeV-madgraph-pythia8_hadd.root\",\n",
    "    \"WJetsToLNu_HT-200To400_TuneCP5_13TeV-madgraphMLM-pythia8_hadd.root\",\n",
    "    \"WJetsToLNu_HT-400To600_TuneCP5_13TeV-madgraphMLM-pythia8_hadd.root\",\n",
    "    \"WJetsToLNu_HT-600To800_TuneCP5_13TeV-madgraphMLM-pythia8_hadd.root\",\n",
    "    \"WJetsToLNu_HT-800To1200_TuneCP5_13TeV-madgraphMLM-pythia8_hadd.root\",\n",
    "    \"WJetsToLNu_HT-1200To2500_TuneCP5_13TeV-madgraphMLM-pythia8_hadd.root\",\n",
    "    \"WJetsToLNu_HT-2500ToInf_TuneCP5_13TeV-madgraphMLM-pythia8_hadd.root\",   \n",
    "]\n",
    "fABCDNN = [\n",
    "    \"TTTo2L2Nu_TuneCP5_13TeV-powheg-pythia8_tt1b_ABCDnn_hadd.root\",\n",
    "    \"TTTo2L2Nu_TuneCP5_13TeV-powheg-pythia8_tt2b_ABCDnn_hadd.root\",\n",
    "    \"TTTo2L2Nu_TuneCP5_13TeV-powheg-pythia8_ttbb_ABCDnn_hadd.root\",\n",
    "    \"TTTo2L2Nu_TuneCP5_13TeV-powheg-pythia8_ttcc_ABCDnn_hadd.root\",\n",
    "    \"TTTo2L2Nu_TuneCP5_13TeV-powheg-pythia8_ttjj_ABCDnn_hadd.root\",\n",
    "    \"TTToHadronic_TuneCP5_13TeV-powheg-pythia8_tt1b_ABCDnn_hadd.root\",\n",
    "    \"TTToHadronic_TuneCP5_13TeV-powheg-pythia8_tt2b_ABCDnn_hadd.root\",\n",
    "    \"TTToHadronic_TuneCP5_13TeV-powheg-pythia8_ttbb_ABCDnn_hadd.root\",\n",
    "    \"TTToHadronic_TuneCP5_13TeV-powheg-pythia8_ttcc_ABCDnn_hadd.root\",\n",
    "    \"TTToHadronic_TuneCP5_13TeV-powheg-pythia8_ttjj_ABCDnn_hadd.root\",\n",
    "    \"TTToSemiLepton_HT500Njet9_TuneCP5_13TeV-powheg-pythia8_tt1b_ABCDnn_hadd.root\",\n",
    "    \"TTToSemiLepton_HT500Njet9_TuneCP5_13TeV-powheg-pythia8_tt2b_ABCDnn_hadd.root\",\n",
    "    \"TTToSemiLepton_HT500Njet9_TuneCP5_13TeV-powheg-pythia8_ttbb_ABCDnn_hadd.root\",\n",
    "    \"TTToSemiLepton_HT500Njet9_TuneCP5_13TeV-powheg-pythia8_ttcc_ABCDnn_hadd.root\",\n",
    "    \"TTToSemiLepton_HT500Njet9_TuneCP5_13TeV-powheg-pythia8_ttjj_ABCDnn_hadd.root\",\n",
    "    \"TTToSemiLeptonic_TuneCP5_13TeV-powheg-pythia8_HT0Njet0_tt1b_ABCDnn_hadd.root\",\n",
    "    \"TTToSemiLeptonic_TuneCP5_13TeV-powheg-pythia8_HT0Njet0_tt2b_ABCDnn_hadd.root\",\n",
    "    \"TTToSemiLeptonic_TuneCP5_13TeV-powheg-pythia8_HT0Njet0_ttbb_ABCDnn_hadd.root\",\n",
    "    \"TTToSemiLeptonic_TuneCP5_13TeV-powheg-pythia8_HT0Njet0_ttcc_ABCDnn_hadd.root\",\n",
    "    \"TTToSemiLeptonic_TuneCP5_13TeV-powheg-pythia8_HT0Njet0_ttjj_1_ABCDnn_hadd.root\",\n",
    "    \"TTToSemiLeptonic_TuneCP5_13TeV-powheg-pythia8_HT0Njet0_ttjj_2_ABCDnn_hadd.root\",\n",
    "    \"TTToSemiLeptonic_TuneCP5_13TeV-powheg-pythia8_HT0Njet0_ttjj_3_ABCDnn_hadd.root\",\n",
    "    \"TTToSemiLeptonic_TuneCP5_13TeV-powheg-pythia8_HT0Njet0_ttjj_4_ABCDnn_hadd.root\",\n",
    "    \"TTToSemiLeptonic_TuneCP5_13TeV-powheg-pythia8_HT0Njet0_ttjj_5_ABCDnn_hadd.root\",\n",
    "    \"TTToSemiLeptonic_TuneCP5_13TeV-powheg-pythia8_HT0Njet0_ttjj_6_ABCDnn_hadd.root\",\n",
    "    \"TTToSemiLeptonic_TuneCP5_13TeV-powheg-pythia8_HT0Njet0_ttjj_7_ABCDnn_hadd.root\",\n",
    "    \"TTToSemiLeptonic_TuneCP5_13TeV-powheg-pythia8_HT0Njet0_ttjj_8_ABCDnn_hadd.root\",\n",
    "    \"TTToSemiLeptonic_TuneCP5_13TeV-powheg-pythia8_HT0Njet0_ttjj_9_ABCDnn_hadd.root\",\n",
    "    \"TTToSemiLeptonic_TuneCP5_13TeV-powheg-pythia8_HT0Njet0_ttjj_10_ABCDnn_hadd.root\",\n",
    "    \"TTToSemiLeptonic_TuneCP5_13TeV-powheg-pythia8_HT500Njet9_tt1b_ABCDnn_hadd.root\",\n",
    "    \"TTToSemiLeptonic_TuneCP5_13TeV-powheg-pythia8_HT500Njet9_tt2b_ABCDnn_hadd.root\",\n",
    "    \"TTToSemiLeptonic_TuneCP5_13TeV-powheg-pythia8_HT500Njet9_ttbb_ABCDnn_hadd.root\",\n",
    "    \"TTToSemiLeptonic_TuneCP5_13TeV-powheg-pythia8_HT500Njet9_ttcc_ABCDnn_hadd.root\",\n",
    "    \"TTToSemiLeptonic_TuneCP5_13TeV-powheg-pythia8_HT500Njet9_ttjj_ABCDnn_hadd.root\",\n",
    "]"
   ]
  },
  {
   "cell_type": "code",
   "execution_count": 3,
   "id": "e8f6bf3c",
   "metadata": {},
   "outputs": [
    {
     "data": {
      "text/plain": [
       "True"
      ]
     },
     "execution_count": 3,
     "metadata": {},
     "output_type": "execute_result"
    }
   ],
   "source": [
    "ROOT.gInterpreter.Declare(\"\"\"\n",
    "float compute_weight( float norm, float triggerXSF, float triggerSF, float pileupWeight, float pileupJetIDWeight, float lepIdSF, float isoSF, float L1NonPrefiringProb_CommonCalc, float MCWeight_MultiLepCalc, float tthfWeight, float btagDeepJetWeight, float btagDeepJet2DWeight_HTnj ){\n",
    "    return norm * triggerXSF * triggerSF * pileupWeight * pileupJetIDWeight * lepIdSF * isoSF * L1NonPrefiringProb_CommonCalc * ( MCWeight_MultiLepCalc / abs( MCWeight_MultiLepCalc ) ) * tthfWeight * btagDeepJetWeight * btagDeepJet2DWeight_HTnj;\n",
    "}\n",
    "\"\"\")"
   ]
  },
  {
   "cell_type": "code",
   "execution_count": 4,
   "id": "c45393f6",
   "metadata": {},
   "outputs": [
    {
     "data": {
      "text/plain": [
       "True"
      ]
     },
     "execution_count": 4,
     "metadata": {},
     "output_type": "execute_result"
    }
   ],
   "source": [
    "ROOT.gInterpreter.Declare(\"\"\"\n",
    "float compute_weight_ttbar( float norm, float triggerXSF, float triggerSF, float pileupWeight, float pileupJetIDWeight, float topPtWeight13TeV, float lepIdSF, float isoSF, float L1NonPrefiringProb_CommonCalc, float MCWeight_MultiLepCalc, float tthfWeight, float btagDeepJetWeight, float btagDeepJet2DWeight_HTnj ){\n",
    "    return norm * triggerXSF * triggerSF * pileupWeight * pileupJetIDWeight * topPtWeight13TeV * lepIdSF * isoSF * L1NonPrefiringProb_CommonCalc * ( MCWeight_MultiLepCalc / abs( MCWeight_MultiLepCalc ) ) * tthfWeight * btagDeepJetWeight * btagDeepJet2DWeight_HTnj;\n",
    "}\n",
    "\"\"\")"
   ]
  },
  {
   "cell_type": "code",
   "execution_count": 5,
   "id": "f92d9dba",
   "metadata": {},
   "outputs": [
    {
     "name": "stderr",
     "output_type": "stream",
     "text": [
      "100%|██████████| 2/2 [00:08<00:00,  4.32s/it]\n"
     ]
    }
   ],
   "source": [
    "df_dat = {}\n",
    "var_dat = [\n",
    "    #\"AK4HT\",\n",
    "    \"thirdcsvb_bb\",\n",
    "    \"DNN_1to40_3t\",\n",
    "    \"NJets_JetSubCalc\",\n",
    "    \"NJetsCSV_JetSubCalc\",\n",
    "    \"corr_met_MultiLepCalc\"\n",
    "]\n",
    "\n",
    "for file in tqdm( fDAT ):\n",
    "    rDF = ROOT.RDataFrame( \"ljmet\", rDir + file )\n",
    "    fDF = rDF.Filter( \"minDR_lepJet > 0.4\" ).Filter( \"DataPastTriggerX == 1 && MCPastTriggerX == 1\" )\n",
    "    df_dat[file] = fDF.AsNumpy( columns = var_dat )"
   ]
  },
  {
   "cell_type": "code",
   "execution_count": 6,
   "id": "31af48e6",
   "metadata": {},
   "outputs": [
    {
     "name": "stderr",
     "output_type": "stream",
     "text": [
      "100%|██████████| 37/37 [02:26<00:00,  3.95s/it]\n"
     ]
    }
   ],
   "source": [
    "df_bkg = {}\n",
    "var_bkg = var_dat + [\n",
    "    \"weight\"\n",
    "]\n",
    "\n",
    "for file in tqdm( fBKG ):\n",
    "    rDF = ROOT.RDataFrame( \"ljmet\", rDir + file )\n",
    "    fDF = rDF.Filter( \"minDR_lepJet > 0.4\" ).Filter( \"DataPastTriggerX == 1 && MCPastTriggerX == 1\" )\n",
    "    wDF = fDF.Define( \"weight\", \"compute_weight( {}, triggerXSF, triggerSF, pileupWeight, pileupJetIDWeight, lepIdSF, isoSF, L1NonPrefiringProb_CommonCalc, MCWeight_MultiLepCalc, tthfWeight, btagDeepJetWeight, btagDeepJet2DWeight_HTnj )\".format( xsec.norm[file]) )\n",
    "    df_bkg[file] = wDF.AsNumpy( columns = var_bkg )"
   ]
  },
  {
   "cell_type": "code",
   "execution_count": 7,
   "id": "f7da26c8",
   "metadata": {},
   "outputs": [
    {
     "name": "stderr",
     "output_type": "stream",
     "text": [
      "100%|██████████| 34/34 [10:26<00:00, 18.43s/it]\n"
     ]
    }
   ],
   "source": [
    "df_abcdnn = {}\n",
    "var_abcdnn = var_bkg + [\n",
    "    \"DNN_1to40_3t_nJ5pnB2p\",\n",
    "    \"thirdcsvb_bb_nJ5pnB2p\",\n",
    "]\n",
    "\n",
    "for file in tqdm( fABCDNN ):\n",
    "    rDF = ROOT.RDataFrame( \"ljmet\", rDirABCDNN + file )\n",
    "    fDF = rDF.Filter( \"minDR_lepJet > 0.4\" ).Filter( \"DataPastTriggerX == 1 && MCPastTriggerX == 1\" )\n",
    "    wDF = fDF.Define( \"weight\", \"compute_weight_ttbar( {}, triggerXSF, triggerSF, pileupWeight, pileupJetIDWeight, topPtWeight13TeV, lepIdSF, isoSF, L1NonPrefiringProb_CommonCalc, MCWeight_MultiLepCalc, tthfWeight, btagDeepJetWeight, btagDeepJet2DWeight_HTnj )\".format( xsec.norm[file.replace( \"_ABCDnn\", \"\" )] ) )\n",
    "    df_abcdnn[file] = wDF.AsNumpy( columns = var_abcdnn )\n"
   ]
  },
  {
   "cell_type": "code",
   "execution_count": 8,
   "id": "34963d55",
   "metadata": {},
   "outputs": [
    {
     "data": {
      "application/vnd.jupyter.widget-view+json": {
       "model_id": "47e8dfc8c72d43eb8e2c45c7b4900c50",
       "version_major": 2,
       "version_minor": 0
      },
      "text/plain": [
       "Dropdown(options=('thirdcsvb_bb', 'DNN_1to40_3t', 'NJets_JetSubCalc', 'NJetsCSV_JetSubCalc', 'corr_met_MultiLe…"
      ]
     },
     "metadata": {},
     "output_type": "display_data"
    }
   ],
   "source": [
    "varPlot = widget.Dropdown( options = var_dat )\n",
    "varPlot"
   ]
  },
  {
   "cell_type": "code",
   "execution_count": 9,
   "id": "684ee39b",
   "metadata": {},
   "outputs": [],
   "source": [
    "def rel( sign, df, val ):\n",
    "    if sign == \"==\":\n",
    "        return df == val\n",
    "    elif sign == \">=\":\n",
    "        return df >= val\n",
    "    elif sign == \">\":\n",
    "        return df > val\n",
    "    elif sign == \"<=\":\n",
    "        return df <= val\n",
    "    else:\n",
    "        return df < val"
   ]
  },
  {
   "cell_type": "code",
   "execution_count": 10,
   "id": "4e1829c4",
   "metadata": {},
   "outputs": [
    {
     "name": "stdout",
     "output_type": "stream",
     "text": [
      "[START] Filtering data\n"
     ]
    },
    {
     "name": "stderr",
     "output_type": "stream",
     "text": [
      "100%|██████████| 2/2 [00:00<00:00, 115.64it/s]\n"
     ]
    },
    {
     "name": "stdout",
     "output_type": "stream",
     "text": [
      "[START] Filtering MC not used in ABCDnn\n"
     ]
    },
    {
     "name": "stderr",
     "output_type": "stream",
     "text": [
      "100%|██████████| 37/37 [00:00<00:00, 144.28it/s]\n"
     ]
    },
    {
     "name": "stdout",
     "output_type": "stream",
     "text": [
      "[START] Filtering MC used in ABCDnn\n"
     ]
    },
    {
     "name": "stderr",
     "output_type": "stream",
     "text": [
      "100%|██████████| 34/34 [00:01<00:00, 24.18it/s] \n"
     ]
    }
   ],
   "source": [
    "abcdnn_tag = \"nJ5pnB2p\"\n",
    "bins = np.linspace( 0., 1.0, 31 )\n",
    "selection = {\n",
    "    \"DNN_1to40_3t\": 0.0,\n",
    "    \"NJets_JetSubCalc\": 5,\n",
    "    \"NJetsCSV_JetSubCalc\": 2\n",
    "}\n",
    "\n",
    "sNJ = \">=\"\n",
    "sNB = \">=\"\n",
    "\n",
    "hist_dat = {}\n",
    "hist_mc = {}\n",
    "hist_abcdnn = {}\n",
    "hist_sf = {}\n",
    "sf = {}\n",
    "\n",
    "print(\"[START] Filtering data\")\n",
    "for file in tqdm(fDAT):\n",
    "    mask = ( rel( sNJ, df_dat[file][\"NJets_JetSubCalc\"], selection[\"NJets_JetSubCalc\"] ) ) & ( rel( sNB, df_dat[file][\"NJetsCSV_JetSubCalc\"], selection[\"NJetsCSV_JetSubCalc\"] ) )\n",
    "    for var in selection:\n",
    "        if var in [ \"NJets_JetSubCalc\", \"NJetsCSV_JetSubCalc\" ]: continue\n",
    "        mask &= ( df_dat[file][var] > selection[var] )\n",
    "    hist_dat[file] = df_dat[file][varPlot.value][mask]\n",
    "        \n",
    "print(\"[START] Filtering MC not used in ABCDnn\")\n",
    "for file in tqdm(fBKG):\n",
    "    if file in [ \"QCD_HT200to300_TuneCP5_PSWeights_13TeV-madgraph-pythia8_hadd.root\", \"QCD_HT300to500_TuneCP5_PSWeights_13TeV-madgraph-pythia8_hadd.root\", \"QCD_HT500to700_TuneCP5_PSWeights_13TeV-madgraph-pythia8_hadd.root\" ]: continue\n",
    "    mask = ( rel( sNJ, df_bkg[file][\"NJets_JetSubCalc\"], selection[\"NJets_JetSubCalc\"] ) ) & ( rel( sNB, df_bkg[file][\"NJetsCSV_JetSubCalc\"], selection[\"NJetsCSV_JetSubCalc\"] ) )\n",
    "    for var in selection:\n",
    "        if var in [ \"NJets_JetSubCalc\", \"NJetsCSV_JetSubCalc\" ]: continue\n",
    "        mask &= ( df_bkg[file][var] > selection[var] )\n",
    "    #hist_mc[file] = df_bkg[file][varPlot.value][mask]\n",
    "    hist_sf[file] = df_bkg[file][varPlot.value][mask]\n",
    "    sf[file]      = df_bkg[file][\"weight\"][mask]  \n",
    "\n",
    "print(\"[START] Filtering MC used in ABCDnn\")\n",
    "for file in tqdm(fABCDNN):\n",
    "    mask = ( rel( sNJ, df_abcdnn[file][\"NJets_JetSubCalc\"], selection[\"NJets_JetSubCalc\"] ) ) & ( rel( sNB, df_abcdnn[file][\"NJetsCSV_JetSubCalc\"], selection[\"NJetsCSV_JetSubCalc\"] ) )\n",
    "    for var in selection:\n",
    "        if var in [ \"NJets_JetSubCalc\", \"NJetsCSV_JetSubCalc\" ]: continue\n",
    "        mask &= ( df_abcdnn[file][var] > selection[var] )\n",
    "    hist_mc[file] = df_abcdnn[file][varPlot.value][mask]\n",
    "    hist_sf[file] = df_abcdnn[file][varPlot.value][mask]\n",
    "    sf[file]      = df_abcdnn[file][\"weight\"][mask]    \n",
    "    hist_abcdnn[file] = df_abcdnn[file][varPlot.value+\"_\"+abcdnn_tag][mask]"
   ]
  },
  {
   "cell_type": "code",
   "execution_count": 11,
   "id": "5c5a15ee",
   "metadata": {},
   "outputs": [],
   "source": [
    "hist_dat[\"TOTAL\"] = np.concatenate( [ hist_dat[file] for file in hist_dat ], axis = 0 )\n",
    "hist_mc[\"TOTAL\"] = np.concatenate( [ hist_mc[file] for file in hist_mc ], axis = 0 )\n",
    "hist_sf[\"TOTAL\"] = np.concatenate( [ hist_sf[file] for file in hist_sf ], axis = 0 )\n",
    "sf[\"TOTAL\"] = np.concatenate( [ sf[file] for file in sf ], axis = 0 )\n",
    "hist_abcdnn[\"TOTAL\"] = np.concatenate( [ hist_abcdnn[file] for file in hist_abcdnn ], axis = 0 )"
   ]
  },
  {
   "cell_type": "code",
   "execution_count": 12,
   "id": "33f2139f",
   "metadata": {},
   "outputs": [],
   "source": [
    "plot_dat    = np.histogram( hist_dat[\"TOTAL\"], bins = bins, density = True )\n",
    "plot_mc     = np.histogram( hist_mc[\"TOTAL\"], bins = bins, density = True )\n",
    "plot_sf     = np.histogram( hist_sf[\"TOTAL\"], bins = bins, weights = sf[\"TOTAL\"], density = True )\n",
    "plot_abcdnn = np.histogram( hist_abcdnn[\"TOTAL\"], bins = bins, density = True )"
   ]
  },
  {
   "cell_type": "code",
   "execution_count": 13,
   "id": "3e2e3b52",
   "metadata": {},
   "outputs": [
    {
     "name": "stderr",
     "output_type": "stream",
     "text": [
      "/cvmfs/sft.cern.ch/lcg/views/LCG_102swan/x86_64-centos7-gcc11-opt/lib/python3.9/site-packages/numpy/core/getlimits.py:499: UserWarning: The value of the smallest subnormal for <class 'numpy.float64'> type is zero.\n",
      "  setattr(self, word, getattr(machar, word).flat[0])\n",
      "/cvmfs/sft.cern.ch/lcg/views/LCG_102swan/x86_64-centos7-gcc11-opt/lib/python3.9/site-packages/numpy/core/getlimits.py:89: UserWarning: The value of the smallest subnormal for <class 'numpy.float64'> type is zero.\n",
      "  return self._float_to_str(self.smallest_subnormal)\n"
     ]
    },
    {
     "data": {
      "image/png": "[encoded data removed]",
      "text/plain": [
       "<Figure size 576x432 with 1 Axes>"
      ]
     },
     "metadata": {
      "needs_background": "light"
     },
     "output_type": "display_data"
    }
   ],
   "source": [
    "plotData = True\n",
    "plt.figure( figsize = (8,6) )\n",
    "plt.style.use( hep.style.CMS )\n",
    "hep.cms.text( \"Preliminary\", fontsize = 18 )\n",
    "hep.cms.lumitext( format( lumitext[\"2016\"] ) + r\"$\\ fb^{-1}\\ (13\\ TeV)$\", fontsize = 16 )\n",
    "\n",
    "plt.fill_between(\n",
    "    0.5 * ( bins[:-1] + bins[1:] ), np.nan_to_num( plot_mc[0] ), label = \"MC\",\n",
    "    interpolate = False, step = \"mid\", color = \"orange\", alpha = 0.5\n",
    ")\n",
    "if plotData:\n",
    "    plt.plot(\n",
    "        0.5 * ( bins[:-1] + bins[1:] ), np.nan_to_num( plot_dat[0] ), label = \"Data\",\n",
    "        ls = \"\", marker = \"o\", color = \"black\", ms = 5\n",
    "    )\n",
    "plt.plot(\n",
    "    0.5 * ( bins[:-1] + bins[1:] ), np.nan_to_num( plot_sf[0] ), label = \"SF\",\n",
    "    ls = \"-\", drawstyle = \"steps-mid\", color = \"green\", lw = 3\n",
    ")\n",
    "plt.plot(\n",
    "    0.5 * ( bins[:-1] + bins[1:] ), np.nan_to_num( plot_abcdnn[0] ), label = \"ABCDnn {}\".format( abcdnn_tag ),\n",
    "    ls = \"-\", drawstyle = \"steps-mid\", color = \"royalblue\", lw = 3\n",
    ")\n",
    "\n",
    "\n",
    "plt.xlabel( varPlot.value, fontsize = 16 )\n",
    "plt.xlim( bins[0], bins[-1] )\n",
    "plt.ylabel( \"Count\", fontsize = 16 )\n",
    "#plt.yscale(\"log\")\n",
    "plt.tick_params( labelsize = 13 )\n",
    "\n",
    "lNJ = \"=\" if sNJ == \"==\" else \"\\geq\"\n",
    "lNB = \"=\" if sNB == \"==\" else \"\\geq\"\n",
    "\n",
    "plt.legend( \n",
    "    title = r\"$N_j{}{},N_b{}{},DNN>{}$\".format( lNJ, selection[\"NJets_JetSubCalc\"], lNB, selection[\"NJetsCSV_JetSubCalc\"], selection[\"DNN_1to40_3t\"] ),\n",
    "    loc = 1, fontsize = 11, title_fontsize = 11\n",
    ")\n",
    "plt.show()\n",
    "plt.close()"
   ]
  },
  {
   "cell_type": "code",
   "execution_count": 14,
   "id": "3d87bc10",
   "metadata": {},
   "outputs": [
    {
     "data": {
      "image/png": "[encoded data removed]",
      "text/plain": [
       "<Figure size 576x432 with 1 Axes>"
      ]
     },
     "metadata": {
      "needs_background": "light"
     },
     "output_type": "display_data"
    }
   ],
   "source": [
    "plt.figure( figsize = (8,6) )\n",
    "plt.style.use( hep.style.CMS )\n",
    "hep.cms.text( \"Preliminary\", fontsize = 18 )\n",
    "hep.cms.lumitext( format( lumitext[\"2016\"] ) + r\"$\\ fb^{-1}\\ (13\\ TeV)$\", fontsize = 16 )\n",
    "\n",
    "plt.fill_between(\n",
    "    0.5 * ( bins[:-1] + bins[1:] ), np.nan_to_num( plot_mc[0] ), label = \"MC\",\n",
    "    interpolate = False, step = \"mid\", color = \"orange\", alpha = 0.5\n",
    ")\n",
    "if plotData:\n",
    "    plt.plot(\n",
    "        0.5 * ( bins[:-1] + bins[1:] ), np.nan_to_num( plot_dat[0] ), label = \"Data\",\n",
    "        ls = \"\", marker = \"o\", color = \"black\", ms = 5\n",
    "    )\n",
    "plt.plot(\n",
    "    0.5 * ( bins[:-1] + bins[1:] ), np.nan_to_num( plot_sf[0] ), label = \"SF\",\n",
    "    ls = \"-\", drawstyle = \"steps-mid\", color = \"green\", lw = 3\n",
    ")\n",
    "plt.plot(\n",
    "    0.5 * ( bins[:-1] + bins[1:] ), np.nan_to_num( plot_abcdnn[0] ), label = \"ABCDnn {}\".format( abcdnn_tag ),\n",
    "    ls = \"-\", drawstyle = \"steps-mid\", color = \"royalblue\", lw = 3\n",
    ")\n",
    "\n",
    "\n",
    "plt.xlabel( varPlot.value, fontsize = 16 )\n",
    "plt.xlim( bins[0], bins[-1] )\n",
    "plt.ylabel( \"Count\", fontsize = 16 )\n",
    "plt.yscale(\"log\")\n",
    "plt.tick_params( labelsize = 13 )\n",
    "lNJ = \"=\" if sNJ == \"==\" else \"\\geq\"\n",
    "lNB = \"=\" if sNB == \"==\" else \"\\geq\"\n",
    "\n",
    "plt.legend( \n",
    "    title = r\"$N_j{}{},N_b{}{},DNN>{}$\".format( lNJ, selection[\"NJets_JetSubCalc\"], lNB, selection[\"NJetsCSV_JetSubCalc\"], selection[\"DNN_1to40_3t\"] ),\n",
    "    loc = 1, fontsize = 11, title_fontsize = 11\n",
    ")\n",
    "plt.show()\n",
    "plt.close()"
   ]
  },
  {
   "cell_type": "markdown",
   "id": "a4181d56",
   "metadata": {},
   "source": [
    "## Template Binning Shape"
   ]
  },
  {
   "cell_type": "code",
   "execution_count": 56,
   "id": "60d2791b",
   "metadata": {},
   "outputs": [
    {
     "name": "stdout",
     "output_type": "stream",
     "text": [
      "[START] Filtering MC not used in ABCDnn nJ5pnB2p\n"
     ]
    },
    {
     "name": "stderr",
     "output_type": "stream",
     "text": [
      "100%|██████████| 37/37 [00:00<00:00, 287.08it/s]\n"
     ]
    },
    {
     "name": "stdout",
     "output_type": "stream",
     "text": [
      "[START] Filtering MC used in ABCDnn nJ5pnB2p\n"
     ]
    },
    {
     "name": "stderr",
     "output_type": "stream",
     "text": [
      "100%|██████████| 34/34 [00:00<00:00, 101.79it/s]\n"
     ]
    },
    {
     "name": "stdout",
     "output_type": "stream",
     "text": [
      "[START] Filtering MC not used in ABCDnn nJ6pnB2p\n"
     ]
    },
    {
     "name": "stderr",
     "output_type": "stream",
     "text": [
      "100%|██████████| 37/37 [00:00<00:00, 291.76it/s]\n"
     ]
    },
    {
     "name": "stdout",
     "output_type": "stream",
     "text": [
      "[START] Filtering MC used in ABCDnn nJ6pnB2p\n"
     ]
    },
    {
     "name": "stderr",
     "output_type": "stream",
     "text": [
      "100%|██████████| 34/34 [00:00<00:00, 88.07it/s] \n"
     ]
    },
    {
     "name": "stdout",
     "output_type": "stream",
     "text": [
      "[START] Filtering MC not used in ABCDnn nJ6pnB3p\n"
     ]
    },
    {
     "name": "stderr",
     "output_type": "stream",
     "text": [
      "100%|██████████| 37/37 [00:00<00:00, 257.55it/s]\n"
     ]
    },
    {
     "name": "stdout",
     "output_type": "stream",
     "text": [
      "[START] Filtering MC used in ABCDnn nJ6pnB3p\n"
     ]
    },
    {
     "name": "stderr",
     "output_type": "stream",
     "text": [
      "100%|██████████| 34/34 [00:00<00:00, 92.79it/s] \n"
     ]
    }
   ],
   "source": [
    "nJ_cut = 6\n",
    "nB_cut = 3\n",
    "\n",
    "abcdnn_tags = [\n",
    "    \"nJ5pnB2p\",\n",
    "    \"nJ6pnB2p\",\n",
    "    \"nJ6pnB3p\"\n",
    "]\n",
    "\n",
    "hist_dat = {}\n",
    "hist_mc = {}\n",
    "hist_abcdnn = {}\n",
    "hist_sf = {}\n",
    "sf = {}\n",
    "        \n",
    "for tag in abcdnn_tags:\n",
    "    hist_mc[tag] = {}\n",
    "    hist_abcdnn[tag] = {}\n",
    "    hist_sf[tag] = {}\n",
    "    sf[tag] = {}\n",
    "    print( \"[START] Filtering MC not used in ABCDnn {}\".format( tag ) )\n",
    "    for file in tqdm(fBKG):\n",
    "        mask = ( df_bkg[file][\"NJets_JetSubCalc\"] >= nJ_cut ) & ( df_bkg[file][\"NJetsCSV_JetSubCalc\" ] >= nB_cut )\n",
    "        for var in selection:\n",
    "            if var in [ \"NJets_JetSubCalc\", \"NJetsCSV_JetSubCalc\" ]: continue\n",
    "            mask &= ( df_bkg[file][var] > selection[var] )\n",
    "        hist_mc[tag][file] = df_bkg[file][varPlot.value][mask]\n",
    "        hist_sf[tag][file] = df_bkg[file][varPlot.value][mask]\n",
    "        sf[tag][file]      = df_bkg[file][\"weight\"][mask]\n",
    "        \n",
    "    print(\"[START] Filtering MC used in ABCDnn {}\".format( tag ) )\n",
    "    for file in tqdm(fABCDNN):\n",
    "        mask = ( df_abcdnn[file][\"NJets_JetSubCalc\"] >= nJ_cut ) & ( df_abcdnn[file][\"NJetsCSV_JetSubCalc\"] >= nB_cut )\n",
    "        mask_abcdnn = ( df_abcdnn[file][\"NJets_JetSubCalc\"] >= nJ_cut ) & ( df_abcdnn[file][\"NJetsCSV_JetSubCalc\"] >= nB_cut )\n",
    "        for var in selection:\n",
    "            if var in [ \"NJets_JetSubCalc\", \"NJetsCSV_JetSubCalc\" ]: continue\n",
    "            if var in [ \"DNN_1to40_3t\" ]:\n",
    "                mask_abcdnn &= ( df_abcdnn[file][var+\"_\"+tag] > selection[var] )\n",
    "            else:\n",
    "                mask_abcdnn &= ( df_abcdnn[file][var] > selection[var] )\n",
    "            mask &= ( df_abcdnn[file][var] > selection[var] )\n",
    "        hist_mc[tag][file] = df_abcdnn[file][varPlot.value][mask]\n",
    "        hist_sf[tag][file] = df_abcdnn[file][varPlot.value][mask]\n",
    "        sf[tag][file]      = df_abcdnn[file][\"weight\"][mask]    \n",
    "        hist_abcdnn[tag][file] = df_abcdnn[file][varPlot.value+\"_\"+tag][mask]"
   ]
  },
  {
   "cell_type": "code",
   "execution_count": 57,
   "id": "e40fad45",
   "metadata": {},
   "outputs": [],
   "source": [
    "for tag in abcdnn_tags:\n",
    "    hist_mc[tag][\"TOTAL\"] = np.concatenate( [ hist_mc[tag][file] for file in hist_mc[tag] ], axis = 0 )\n",
    "    hist_sf[tag][\"TOTAL\"] = np.concatenate( [ hist_sf[tag][file] for file in hist_sf[tag] ], axis = 0 )\n",
    "    sf[tag][\"TOTAL\"] = np.concatenate( [ sf[tag][file] for file in sf[tag] ], axis = 0 )\n",
    "    hist_abcdnn[tag][\"TOTAL\"] = np.concatenate( [ hist_abcdnn[tag][file] for file in hist_abcdnn[tag] ], axis = 0 )"
   ]
  },
  {
   "cell_type": "code",
   "execution_count": 58,
   "id": "5b6566d2",
   "metadata": {},
   "outputs": [],
   "source": [
    "plot_mc = {}\n",
    "plot_sf = {}\n",
    "plot_abcdnn = {}\n",
    "for tag in abcdnn_tags:\n",
    "    plot_mc[tag]     = np.histogram( hist_mc[tag][\"TOTAL\"], bins = bins, density = True )\n",
    "    plot_sf[tag]     = np.histogram( hist_sf[tag][\"TOTAL\"], bins = bins, weights = sf[tag][\"TOTAL\"], density = True )\n",
    "    plot_abcdnn[tag] = np.histogram( hist_abcdnn[tag][\"TOTAL\"], bins = bins, density = True )"
   ]
  },
  {
   "cell_type": "code",
   "execution_count": 60,
   "id": "68959e33",
   "metadata": {},
   "outputs": [
    {
     "data": {
      "image/png": "[encoded data removed]",
      "text/plain": [
       "<Figure size 576x432 with 1 Axes>"
      ]
     },
     "metadata": {
      "needs_background": "light"
     },
     "output_type": "display_data"
    }
   ],
   "source": [
    "base_tag = \"nJ6pnB3p\"\n",
    "plt.figure( figsize = (8,6) )\n",
    "plt.style.use( hep.style.CMS )\n",
    "hep.cms.text( \"Preliminary\", fontsize = 18 )\n",
    "\n",
    "plt.fill_between(\n",
    "    bins[:-1], np.nan_to_num( plot_mc[base_tag][0] ), label = \"MC\",\n",
    "    interpolate = False, step = \"post\", color = \"orange\", alpha = 0.5\n",
    ")\n",
    "\n",
    "plt.plot(\n",
    "    bins[:-1], np.nan_to_num( plot_sf[base_tag][0] ), label = \"SF\",\n",
    "    ls = \"-\", drawstyle = \"steps-post\", color = \"black\", lw = 2\n",
    ")\n",
    "\n",
    "for tag in abcdnn_tags:\n",
    "    plt.plot(\n",
    "        bins[:-1], np.nan_to_num( plot_abcdnn[tag][0] ), label = \"ABCDnn {}\".format( tag ),\n",
    "        ls = \"--\", drawstyle = \"steps-post\", lw = 2\n",
    "    )\n",
    "\n",
    "\n",
    "plt.xlabel( varPlot.value, fontsize = 16 )\n",
    "plt.xlim( bins[0], bins[-2] )\n",
    "plt.ylabel( \"Count\", fontsize = 16 )\n",
    "#plt.yscale(\"log\")\n",
    "plt.tick_params( labelsize = 13 )\n",
    "plt.legend( \n",
    "    title = r\"$N_j\\geq {},N_b\\geq {},DNN>{}$\".format( selection[\"NJets_JetSubCalc\"], selection[\"NJetsCSV_JetSubCalc\"], selection[\"DNN_1to40_3t\"] ),\n",
    "    loc = \"best\", fontsize = 12, title_fontsize = 12\n",
    ")\n",
    "plt.show()\n",
    "plt.close()"
   ]
  },
  {
   "cell_type": "code",
   "execution_count": null,
   "id": "e1358167",
   "metadata": {},
   "outputs": [],
   "source": []
  }
 ],
 "metadata": {
  "kernelspec": {
   "display_name": "Python 3",
   "language": "python",
   "name": "python3"
  },
  "language_info": {
   "codemirror_mode": {
    "name": "ipython",
    "version": 3
   },
   "file_extension": ".py",
   "mimetype": "text/x-python",
   "name": "python",
   "nbconvert_exporter": "python",
   "pygments_lexer": "ipython3",
   "version": "3.9.12"
  }
 },
 "nbformat": 4,
 "nbformat_minor": 5
}
